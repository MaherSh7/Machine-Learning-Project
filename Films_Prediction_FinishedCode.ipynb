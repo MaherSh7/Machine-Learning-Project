{
  "nbformat": 4,
  "nbformat_minor": 0,
  "metadata": {
    "colab": {
      "name": "Films_ML_1HEDONE_withoutensemble_CSV.ipynb",
      "provenance": [],
      "collapsed_sections": []
    },
    "kernelspec": {
      "name": "python3",
      "display_name": "Python 3"
    },
    "language_info": {
      "name": "python"
    }
  },
  "cells": [
    {
      "cell_type": "code",
      "execution_count": 539,
      "metadata": {
        "id": "WdRhs7Px6qvr"
      },
      "outputs": [],
      "source": [
        "import matplotlib.pyplot as plt \n",
        "import seaborn           as sns \n",
        "import pandas            as pd\n",
        "from sklearn                 import preprocessing\n",
        "from sklearn.metrics         import confusion_matrix\n",
        "from sklearn.preprocessing   import OneHotEncoder\n",
        "from sklearn.preprocessing   import MinMaxScaler\n",
        "from sklearn.model_selection import train_test_split \n",
        "from sklearn.linear_model    import LinearRegression\n",
        "from xgboost                 import XGBRegressor\n",
        "from sklearn.tree            import DecisionTreeRegressor\n",
        "from sklearn.ensemble        import RandomForestRegressor\n",
        "from sklearn                 import metrics\n",
        "from sklearn.metrics         import r2_score\n",
        "from sklearn.metrics         import mean_squared_error\n",
        "from sklearn.ensemble        import VotingRegressor"
      ]
    },
    {
      "cell_type": "code",
      "source": [
        "films = pd.read_csv('/content/MDY_CSV.csv')\n",
        "films = films.iloc[:,1:17]"
      ],
      "metadata": {
        "id": "RihHHASr6zql"
      },
      "execution_count": 540,
      "outputs": []
    },
    {
      "cell_type": "code",
      "source": [
        "films.head()"
      ],
      "metadata": {
        "colab": {
          "base_uri": "https://localhost:8080/",
          "height": 357
        },
        "id": "eynWjMkL7DV5",
        "outputId": "f50f743e-4bcf-4982-f3c9-658f7429ba28"
      },
      "execution_count": 541,
      "outputs": [
        {
          "output_type": "execute_result",
          "data": {
            "text/html": [
              "\n",
              "  <div id=\"df-55dc8612-24c1-4552-b9f0-88bcbfedff40\">\n",
              "    <div class=\"colab-df-container\">\n",
              "      <div>\n",
              "<style scoped>\n",
              "    .dataframe tbody tr th:only-of-type {\n",
              "        vertical-align: middle;\n",
              "    }\n",
              "\n",
              "    .dataframe tbody tr th {\n",
              "        vertical-align: top;\n",
              "    }\n",
              "\n",
              "    .dataframe thead th {\n",
              "        text-align: right;\n",
              "    }\n",
              "</style>\n",
              "<table border=\"1\" class=\"dataframe\">\n",
              "  <thead>\n",
              "    <tr style=\"text-align: right;\">\n",
              "      <th></th>\n",
              "      <th>star</th>\n",
              "      <th>original_title</th>\n",
              "      <th>budget</th>\n",
              "      <th>revenue</th>\n",
              "      <th>genres</th>\n",
              "      <th>original_language</th>\n",
              "      <th>popularity</th>\n",
              "      <th>production_companies</th>\n",
              "      <th>production_countries</th>\n",
              "      <th>year</th>\n",
              "      <th>month</th>\n",
              "      <th>day</th>\n",
              "      <th>runtime</th>\n",
              "      <th>spoken_languages</th>\n",
              "      <th>vote_count</th>\n",
              "      <th>vote_average</th>\n",
              "    </tr>\n",
              "  </thead>\n",
              "  <tbody>\n",
              "    <tr>\n",
              "      <th>0</th>\n",
              "      <td>Colin Hanks</td>\n",
              "      <td>Alone With Her</td>\n",
              "      <td>1000000</td>\n",
              "      <td>10018</td>\n",
              "      <td>Crime</td>\n",
              "      <td>en</td>\n",
              "      <td>2.392367</td>\n",
              "      <td>The Weinstein Company</td>\n",
              "      <td>US</td>\n",
              "      <td>2006</td>\n",
              "      <td>4</td>\n",
              "      <td>28</td>\n",
              "      <td>78</td>\n",
              "      <td>en</td>\n",
              "      <td>20</td>\n",
              "      <td>6.2</td>\n",
              "    </tr>\n",
              "    <tr>\n",
              "      <th>1</th>\n",
              "      <td>Jason Statham</td>\n",
              "      <td>Chaos</td>\n",
              "      <td>20000000</td>\n",
              "      <td>10289</td>\n",
              "      <td>Drama</td>\n",
              "      <td>en</td>\n",
              "      <td>9.517950</td>\n",
              "      <td>Current Entertainment</td>\n",
              "      <td>CA</td>\n",
              "      <td>2005</td>\n",
              "      <td>1</td>\n",
              "      <td>17</td>\n",
              "      <td>106</td>\n",
              "      <td>en</td>\n",
              "      <td>278</td>\n",
              "      <td>6.1</td>\n",
              "    </tr>\n",
              "    <tr>\n",
              "      <th>2</th>\n",
              "      <td>Leo Jokela</td>\n",
              "      <td>Logan</td>\n",
              "      <td>135000</td>\n",
              "      <td>10474</td>\n",
              "      <td>Comedy</td>\n",
              "      <td>en</td>\n",
              "      <td>0.588872</td>\n",
              "      <td>logan films</td>\n",
              "      <td>US</td>\n",
              "      <td>2010</td>\n",
              "      <td>9</td>\n",
              "      <td>10</td>\n",
              "      <td>94</td>\n",
              "      <td>en</td>\n",
              "      <td>2</td>\n",
              "      <td>5.3</td>\n",
              "    </tr>\n",
              "    <tr>\n",
              "      <th>3</th>\n",
              "      <td>Diane Kruger</td>\n",
              "      <td>Forces spÃ©ciales</td>\n",
              "      <td>10000000</td>\n",
              "      <td>10759</td>\n",
              "      <td>Action</td>\n",
              "      <td>fr</td>\n",
              "      <td>5.358400</td>\n",
              "      <td>StudioCanal</td>\n",
              "      <td>FR</td>\n",
              "      <td>2011</td>\n",
              "      <td>11</td>\n",
              "      <td>2</td>\n",
              "      <td>109</td>\n",
              "      <td>fr</td>\n",
              "      <td>132</td>\n",
              "      <td>6.4</td>\n",
              "    </tr>\n",
              "    <tr>\n",
              "      <th>4</th>\n",
              "      <td>Melvil Poupaud</td>\n",
              "      <td>Laurence Anyways</td>\n",
              "      <td>9500000</td>\n",
              "      <td>12250</td>\n",
              "      <td>Drama</td>\n",
              "      <td>fr</td>\n",
              "      <td>8.594980</td>\n",
              "      <td>MK2 Productions</td>\n",
              "      <td>CA</td>\n",
              "      <td>2012</td>\n",
              "      <td>5</td>\n",
              "      <td>18</td>\n",
              "      <td>168</td>\n",
              "      <td>fr</td>\n",
              "      <td>190</td>\n",
              "      <td>7.7</td>\n",
              "    </tr>\n",
              "  </tbody>\n",
              "</table>\n",
              "</div>\n",
              "      <button class=\"colab-df-convert\" onclick=\"convertToInteractive('df-55dc8612-24c1-4552-b9f0-88bcbfedff40')\"\n",
              "              title=\"Convert this dataframe to an interactive table.\"\n",
              "              style=\"display:none;\">\n",
              "        \n",
              "  <svg xmlns=\"http://www.w3.org/2000/svg\" height=\"24px\"viewBox=\"0 0 24 24\"\n",
              "       width=\"24px\">\n",
              "    <path d=\"M0 0h24v24H0V0z\" fill=\"none\"/>\n",
              "    <path d=\"M18.56 5.44l.94 2.06.94-2.06 2.06-.94-2.06-.94-.94-2.06-.94 2.06-2.06.94zm-11 1L8.5 8.5l.94-2.06 2.06-.94-2.06-.94L8.5 2.5l-.94 2.06-2.06.94zm10 10l.94 2.06.94-2.06 2.06-.94-2.06-.94-.94-2.06-.94 2.06-2.06.94z\"/><path d=\"M17.41 7.96l-1.37-1.37c-.4-.4-.92-.59-1.43-.59-.52 0-1.04.2-1.43.59L10.3 9.45l-7.72 7.72c-.78.78-.78 2.05 0 2.83L4 21.41c.39.39.9.59 1.41.59.51 0 1.02-.2 1.41-.59l7.78-7.78 2.81-2.81c.8-.78.8-2.07 0-2.86zM5.41 20L4 18.59l7.72-7.72 1.47 1.35L5.41 20z\"/>\n",
              "  </svg>\n",
              "      </button>\n",
              "      \n",
              "  <style>\n",
              "    .colab-df-container {\n",
              "      display:flex;\n",
              "      flex-wrap:wrap;\n",
              "      gap: 12px;\n",
              "    }\n",
              "\n",
              "    .colab-df-convert {\n",
              "      background-color: #E8F0FE;\n",
              "      border: none;\n",
              "      border-radius: 50%;\n",
              "      cursor: pointer;\n",
              "      display: none;\n",
              "      fill: #1967D2;\n",
              "      height: 32px;\n",
              "      padding: 0 0 0 0;\n",
              "      width: 32px;\n",
              "    }\n",
              "\n",
              "    .colab-df-convert:hover {\n",
              "      background-color: #E2EBFA;\n",
              "      box-shadow: 0px 1px 2px rgba(60, 64, 67, 0.3), 0px 1px 3px 1px rgba(60, 64, 67, 0.15);\n",
              "      fill: #174EA6;\n",
              "    }\n",
              "\n",
              "    [theme=dark] .colab-df-convert {\n",
              "      background-color: #3B4455;\n",
              "      fill: #D2E3FC;\n",
              "    }\n",
              "\n",
              "    [theme=dark] .colab-df-convert:hover {\n",
              "      background-color: #434B5C;\n",
              "      box-shadow: 0px 1px 3px 1px rgba(0, 0, 0, 0.15);\n",
              "      filter: drop-shadow(0px 1px 2px rgba(0, 0, 0, 0.3));\n",
              "      fill: #FFFFFF;\n",
              "    }\n",
              "  </style>\n",
              "\n",
              "      <script>\n",
              "        const buttonEl =\n",
              "          document.querySelector('#df-55dc8612-24c1-4552-b9f0-88bcbfedff40 button.colab-df-convert');\n",
              "        buttonEl.style.display =\n",
              "          google.colab.kernel.accessAllowed ? 'block' : 'none';\n",
              "\n",
              "        async function convertToInteractive(key) {\n",
              "          const element = document.querySelector('#df-55dc8612-24c1-4552-b9f0-88bcbfedff40');\n",
              "          const dataTable =\n",
              "            await google.colab.kernel.invokeFunction('convertToInteractive',\n",
              "                                                     [key], {});\n",
              "          if (!dataTable) return;\n",
              "\n",
              "          const docLinkHtml = 'Like what you see? Visit the ' +\n",
              "            '<a target=\"_blank\" href=https://colab.research.google.com/notebooks/data_table.ipynb>data table notebook</a>'\n",
              "            + ' to learn more about interactive tables.';\n",
              "          element.innerHTML = '';\n",
              "          dataTable['output_type'] = 'display_data';\n",
              "          await google.colab.output.renderOutput(dataTable, element);\n",
              "          const docLink = document.createElement('div');\n",
              "          docLink.innerHTML = docLinkHtml;\n",
              "          element.appendChild(docLink);\n",
              "        }\n",
              "      </script>\n",
              "    </div>\n",
              "  </div>\n",
              "  "
            ],
            "text/plain": [
              "             star     original_title  ...  vote_count  vote_average\n",
              "0     Colin Hanks     Alone With Her  ...          20           6.2\n",
              "1   Jason Statham              Chaos  ...         278           6.1\n",
              "2      Leo Jokela              Logan  ...           2           5.3\n",
              "3    Diane Kruger  Forces spÃ©ciales  ...         132           6.4\n",
              "4  Melvil Poupaud   Laurence Anyways  ...         190           7.7\n",
              "\n",
              "[5 rows x 16 columns]"
            ]
          },
          "metadata": {},
          "execution_count": 541
        }
      ]
    },
    {
      "cell_type": "code",
      "source": [
        "films.info()"
      ],
      "metadata": {
        "colab": {
          "base_uri": "https://localhost:8080/"
        },
        "id": "5UtP8MpKW6D5",
        "outputId": "ac552f27-092b-4c45-8482-1fcdda9ae6e3"
      },
      "execution_count": 542,
      "outputs": [
        {
          "output_type": "stream",
          "name": "stdout",
          "text": [
            "<class 'pandas.core.frame.DataFrame'>\n",
            "RangeIndex: 4978 entries, 0 to 4977\n",
            "Data columns (total 16 columns):\n",
            " #   Column                Non-Null Count  Dtype  \n",
            "---  ------                --------------  -----  \n",
            " 0   star                  4978 non-null   object \n",
            " 1   original_title        4978 non-null   object \n",
            " 2   budget                4978 non-null   int64  \n",
            " 3   revenue               4978 non-null   int64  \n",
            " 4   genres                4978 non-null   object \n",
            " 5   original_language     4978 non-null   object \n",
            " 6   popularity            4978 non-null   float64\n",
            " 7   production_companies  4978 non-null   object \n",
            " 8   production_countries  4977 non-null   object \n",
            " 9   year                  4978 non-null   int64  \n",
            " 10  month                 4978 non-null   int64  \n",
            " 11  day                   4978 non-null   int64  \n",
            " 12  runtime               4978 non-null   int64  \n",
            " 13  spoken_languages      4978 non-null   object \n",
            " 14  vote_count            4978 non-null   int64  \n",
            " 15  vote_average          4978 non-null   float64\n",
            "dtypes: float64(2), int64(7), object(7)\n",
            "memory usage: 622.4+ KB\n"
          ]
        }
      ]
    },
    {
      "cell_type": "code",
      "source": [
        "films['runtime'].fillna(films['runtime'].mean(), inplace = True)\n",
        "films = films.dropna()"
      ],
      "metadata": {
        "id": "5hffoaviLxSr"
      },
      "execution_count": 543,
      "outputs": []
    },
    {
      "cell_type": "code",
      "source": [
        "C= films['vote_average'].mean()\n",
        "C"
      ],
      "metadata": {
        "colab": {
          "base_uri": "https://localhost:8080/"
        },
        "id": "zviIHVUxCWO2",
        "outputId": "d03e393c-bc2c-46d2-982f-0ee402d8497b"
      },
      "execution_count": 544,
      "outputs": [
        {
          "output_type": "execute_result",
          "data": {
            "text/plain": [
              "6.301306007635123"
            ]
          },
          "metadata": {},
          "execution_count": 544
        }
      ]
    },
    {
      "cell_type": "code",
      "source": [
        "m= films['vote_count'].quantile(0.8)\n",
        "m"
      ],
      "metadata": {
        "colab": {
          "base_uri": "https://localhost:8080/"
        },
        "id": "VntjaaqeCepS",
        "outputId": "f128c8cb-8fc5-41a9-efc3-df9f95c8fd1d"
      },
      "execution_count": 545,
      "outputs": [
        {
          "output_type": "execute_result",
          "data": {
            "text/plain": [
              "1075.8000000000002"
            ]
          },
          "metadata": {},
          "execution_count": 545
        }
      ]
    },
    {
      "cell_type": "code",
      "source": [
        "def weighted_rating(x, m=m, C=C):\n",
        "    v = x['vote_count']\n",
        "    R = x['vote_average']\n",
        "    return (v/(v+m) * R) + (m/(m+v) * C)\n",
        "    "
      ],
      "metadata": {
        "id": "BIEWeuk6C0mb"
      },
      "execution_count": 546,
      "outputs": []
    },
    {
      "cell_type": "code",
      "source": [
        "films['weighted_rating'] = films.apply(weighted_rating, axis=1)"
      ],
      "metadata": {
        "id": "xX7ocfjMC7O1"
      },
      "execution_count": 547,
      "outputs": []
    },
    {
      "cell_type": "code",
      "source": [
        "def profit(x):\n",
        "  R= x['revenue']\n",
        "  B= x['budget']\n",
        "  return (R-B)"
      ],
      "metadata": {
        "id": "MazPJ3tTAoLq"
      },
      "execution_count": 548,
      "outputs": []
    },
    {
      "cell_type": "code",
      "source": [
        "films['profit'] = films.apply(profit, axis=1)"
      ],
      "metadata": {
        "id": "KyJqA-o8BCHT"
      },
      "execution_count": 549,
      "outputs": []
    },
    {
      "cell_type": "code",
      "source": [
        "films_ = films.sort_values('weighted_rating', ascending=False).head(10)\n",
        "films_"
      ],
      "metadata": {
        "colab": {
          "base_uri": "https://localhost:8080/",
          "height": 531
        },
        "id": "zza37PiADCpp",
        "outputId": "ecdf5dde-7206-4ee3-8715-a7b7d0bc7b85"
      },
      "execution_count": 550,
      "outputs": [
        {
          "output_type": "execute_result",
          "data": {
            "text/html": [
              "\n",
              "  <div id=\"df-c48d9174-3541-4ede-a777-8c725b83966e\">\n",
              "    <div class=\"colab-df-container\">\n",
              "      <div>\n",
              "<style scoped>\n",
              "    .dataframe tbody tr th:only-of-type {\n",
              "        vertical-align: middle;\n",
              "    }\n",
              "\n",
              "    .dataframe tbody tr th {\n",
              "        vertical-align: top;\n",
              "    }\n",
              "\n",
              "    .dataframe thead th {\n",
              "        text-align: right;\n",
              "    }\n",
              "</style>\n",
              "<table border=\"1\" class=\"dataframe\">\n",
              "  <thead>\n",
              "    <tr style=\"text-align: right;\">\n",
              "      <th></th>\n",
              "      <th>star</th>\n",
              "      <th>original_title</th>\n",
              "      <th>budget</th>\n",
              "      <th>revenue</th>\n",
              "      <th>genres</th>\n",
              "      <th>original_language</th>\n",
              "      <th>popularity</th>\n",
              "      <th>production_companies</th>\n",
              "      <th>production_countries</th>\n",
              "      <th>year</th>\n",
              "      <th>month</th>\n",
              "      <th>day</th>\n",
              "      <th>runtime</th>\n",
              "      <th>spoken_languages</th>\n",
              "      <th>vote_count</th>\n",
              "      <th>vote_average</th>\n",
              "      <th>weighted_rating</th>\n",
              "      <th>profit</th>\n",
              "    </tr>\n",
              "  </thead>\n",
              "  <tbody>\n",
              "    <tr>\n",
              "      <th>2305</th>\n",
              "      <td>Tim Robbins</td>\n",
              "      <td>The Shawshank Redemption</td>\n",
              "      <td>25000000</td>\n",
              "      <td>28341469</td>\n",
              "      <td>Drama</td>\n",
              "      <td>en</td>\n",
              "      <td>51.645403</td>\n",
              "      <td>Castle Rock Entertainment</td>\n",
              "      <td>US</td>\n",
              "      <td>1994</td>\n",
              "      <td>9</td>\n",
              "      <td>23</td>\n",
              "      <td>142</td>\n",
              "      <td>en</td>\n",
              "      <td>8358</td>\n",
              "      <td>8.5</td>\n",
              "      <td>8.249268</td>\n",
              "      <td>3341469</td>\n",
              "    </tr>\n",
              "    <tr>\n",
              "      <th>4479</th>\n",
              "      <td>Marlon Brando</td>\n",
              "      <td>The Godfather</td>\n",
              "      <td>6000000</td>\n",
              "      <td>245066411</td>\n",
              "      <td>Drama</td>\n",
              "      <td>en</td>\n",
              "      <td>41.109264</td>\n",
              "      <td>Paramount Pictures</td>\n",
              "      <td>US</td>\n",
              "      <td>1972</td>\n",
              "      <td>3</td>\n",
              "      <td>14</td>\n",
              "      <td>175</td>\n",
              "      <td>en</td>\n",
              "      <td>6024</td>\n",
              "      <td>8.5</td>\n",
              "      <td>8.166842</td>\n",
              "      <td>239066411</td>\n",
              "    </tr>\n",
              "    <tr>\n",
              "      <th>4951</th>\n",
              "      <td>Christian Bale</td>\n",
              "      <td>The Dark Knight</td>\n",
              "      <td>185000000</td>\n",
              "      <td>1004558444</td>\n",
              "      <td>Drama</td>\n",
              "      <td>en</td>\n",
              "      <td>123.167259</td>\n",
              "      <td>DC Comics</td>\n",
              "      <td>GB</td>\n",
              "      <td>2008</td>\n",
              "      <td>7</td>\n",
              "      <td>16</td>\n",
              "      <td>152</td>\n",
              "      <td>en</td>\n",
              "      <td>12269</td>\n",
              "      <td>8.3</td>\n",
              "      <td>8.138874</td>\n",
              "      <td>819558444</td>\n",
              "    </tr>\n",
              "    <tr>\n",
              "      <th>3685</th>\n",
              "      <td>Edward Snowden</td>\n",
              "      <td>Fight Club</td>\n",
              "      <td>63000000</td>\n",
              "      <td>100853753</td>\n",
              "      <td>Drama</td>\n",
              "      <td>en</td>\n",
              "      <td>63.869599</td>\n",
              "      <td>Twentieth Century Fox Film Corporation</td>\n",
              "      <td>DE</td>\n",
              "      <td>1999</td>\n",
              "      <td>10</td>\n",
              "      <td>15</td>\n",
              "      <td>139</td>\n",
              "      <td>en</td>\n",
              "      <td>9678</td>\n",
              "      <td>8.3</td>\n",
              "      <td>8.100053</td>\n",
              "      <td>37853753</td>\n",
              "    </tr>\n",
              "    <tr>\n",
              "      <th>4381</th>\n",
              "      <td>John Travolta</td>\n",
              "      <td>Pulp Fiction</td>\n",
              "      <td>8000000</td>\n",
              "      <td>213928762</td>\n",
              "      <td>Thriller</td>\n",
              "      <td>en</td>\n",
              "      <td>140.950236</td>\n",
              "      <td>Miramax Films</td>\n",
              "      <td>US</td>\n",
              "      <td>1994</td>\n",
              "      <td>9</td>\n",
              "      <td>10</td>\n",
              "      <td>154</td>\n",
              "      <td>en</td>\n",
              "      <td>8670</td>\n",
              "      <td>8.3</td>\n",
              "      <td>8.079372</td>\n",
              "      <td>205928762</td>\n",
              "    </tr>\n",
              "    <tr>\n",
              "      <th>4885</th>\n",
              "      <td>Tom Hanks</td>\n",
              "      <td>Forrest Gump</td>\n",
              "      <td>55000000</td>\n",
              "      <td>677945399</td>\n",
              "      <td>Comedy</td>\n",
              "      <td>en</td>\n",
              "      <td>48.307194</td>\n",
              "      <td>Paramount Pictures</td>\n",
              "      <td>US</td>\n",
              "      <td>1994</td>\n",
              "      <td>7</td>\n",
              "      <td>6</td>\n",
              "      <td>142</td>\n",
              "      <td>en</td>\n",
              "      <td>8147</td>\n",
              "      <td>8.2</td>\n",
              "      <td>7.978526</td>\n",
              "      <td>622945399</td>\n",
              "    </tr>\n",
              "    <tr>\n",
              "      <th>4921</th>\n",
              "      <td>Leonardo DiCaprio</td>\n",
              "      <td>Inception</td>\n",
              "      <td>160000000</td>\n",
              "      <td>825532764</td>\n",
              "      <td>Action</td>\n",
              "      <td>en</td>\n",
              "      <td>29.108149</td>\n",
              "      <td>Legendary Pictures</td>\n",
              "      <td>GB</td>\n",
              "      <td>2010</td>\n",
              "      <td>7</td>\n",
              "      <td>14</td>\n",
              "      <td>148</td>\n",
              "      <td>en</td>\n",
              "      <td>14075</td>\n",
              "      <td>8.1</td>\n",
              "      <td>7.972282</td>\n",
              "      <td>665532764</td>\n",
              "    </tr>\n",
              "    <tr>\n",
              "      <th>4883</th>\n",
              "      <td>Matthew McConaughey</td>\n",
              "      <td>Interstellar</td>\n",
              "      <td>165000000</td>\n",
              "      <td>675120017</td>\n",
              "      <td>Adventure</td>\n",
              "      <td>en</td>\n",
              "      <td>32.213481</td>\n",
              "      <td>Paramount Pictures</td>\n",
              "      <td>CA</td>\n",
              "      <td>2014</td>\n",
              "      <td>11</td>\n",
              "      <td>5</td>\n",
              "      <td>169</td>\n",
              "      <td>en</td>\n",
              "      <td>11187</td>\n",
              "      <td>8.1</td>\n",
              "      <td>7.942203</td>\n",
              "      <td>510120017</td>\n",
              "    </tr>\n",
              "    <tr>\n",
              "      <th>4832</th>\n",
              "      <td>Mark Hamill</td>\n",
              "      <td>The Empire Strikes Back</td>\n",
              "      <td>18000000</td>\n",
              "      <td>538400000</td>\n",
              "      <td>Adventure</td>\n",
              "      <td>en</td>\n",
              "      <td>19.470959</td>\n",
              "      <td>Lucasfilm</td>\n",
              "      <td>US</td>\n",
              "      <td>1980</td>\n",
              "      <td>5</td>\n",
              "      <td>17</td>\n",
              "      <td>124</td>\n",
              "      <td>en</td>\n",
              "      <td>5998</td>\n",
              "      <td>8.2</td>\n",
              "      <td>7.911242</td>\n",
              "      <td>520400000</td>\n",
              "    </tr>\n",
              "    <tr>\n",
              "      <th>4637</th>\n",
              "      <td>Liam Neeson</td>\n",
              "      <td>Schindler's List</td>\n",
              "      <td>22000000</td>\n",
              "      <td>321365567</td>\n",
              "      <td>Drama</td>\n",
              "      <td>en</td>\n",
              "      <td>41.725123</td>\n",
              "      <td>Universal Pictures</td>\n",
              "      <td>US</td>\n",
              "      <td>1993</td>\n",
              "      <td>11</td>\n",
              "      <td>29</td>\n",
              "      <td>195</td>\n",
              "      <td>de</td>\n",
              "      <td>4436</td>\n",
              "      <td>8.3</td>\n",
              "      <td>7.909892</td>\n",
              "      <td>299365567</td>\n",
              "    </tr>\n",
              "  </tbody>\n",
              "</table>\n",
              "</div>\n",
              "      <button class=\"colab-df-convert\" onclick=\"convertToInteractive('df-c48d9174-3541-4ede-a777-8c725b83966e')\"\n",
              "              title=\"Convert this dataframe to an interactive table.\"\n",
              "              style=\"display:none;\">\n",
              "        \n",
              "  <svg xmlns=\"http://www.w3.org/2000/svg\" height=\"24px\"viewBox=\"0 0 24 24\"\n",
              "       width=\"24px\">\n",
              "    <path d=\"M0 0h24v24H0V0z\" fill=\"none\"/>\n",
              "    <path d=\"M18.56 5.44l.94 2.06.94-2.06 2.06-.94-2.06-.94-.94-2.06-.94 2.06-2.06.94zm-11 1L8.5 8.5l.94-2.06 2.06-.94-2.06-.94L8.5 2.5l-.94 2.06-2.06.94zm10 10l.94 2.06.94-2.06 2.06-.94-2.06-.94-.94-2.06-.94 2.06-2.06.94z\"/><path d=\"M17.41 7.96l-1.37-1.37c-.4-.4-.92-.59-1.43-.59-.52 0-1.04.2-1.43.59L10.3 9.45l-7.72 7.72c-.78.78-.78 2.05 0 2.83L4 21.41c.39.39.9.59 1.41.59.51 0 1.02-.2 1.41-.59l7.78-7.78 2.81-2.81c.8-.78.8-2.07 0-2.86zM5.41 20L4 18.59l7.72-7.72 1.47 1.35L5.41 20z\"/>\n",
              "  </svg>\n",
              "      </button>\n",
              "      \n",
              "  <style>\n",
              "    .colab-df-container {\n",
              "      display:flex;\n",
              "      flex-wrap:wrap;\n",
              "      gap: 12px;\n",
              "    }\n",
              "\n",
              "    .colab-df-convert {\n",
              "      background-color: #E8F0FE;\n",
              "      border: none;\n",
              "      border-radius: 50%;\n",
              "      cursor: pointer;\n",
              "      display: none;\n",
              "      fill: #1967D2;\n",
              "      height: 32px;\n",
              "      padding: 0 0 0 0;\n",
              "      width: 32px;\n",
              "    }\n",
              "\n",
              "    .colab-df-convert:hover {\n",
              "      background-color: #E2EBFA;\n",
              "      box-shadow: 0px 1px 2px rgba(60, 64, 67, 0.3), 0px 1px 3px 1px rgba(60, 64, 67, 0.15);\n",
              "      fill: #174EA6;\n",
              "    }\n",
              "\n",
              "    [theme=dark] .colab-df-convert {\n",
              "      background-color: #3B4455;\n",
              "      fill: #D2E3FC;\n",
              "    }\n",
              "\n",
              "    [theme=dark] .colab-df-convert:hover {\n",
              "      background-color: #434B5C;\n",
              "      box-shadow: 0px 1px 3px 1px rgba(0, 0, 0, 0.15);\n",
              "      filter: drop-shadow(0px 1px 2px rgba(0, 0, 0, 0.3));\n",
              "      fill: #FFFFFF;\n",
              "    }\n",
              "  </style>\n",
              "\n",
              "      <script>\n",
              "        const buttonEl =\n",
              "          document.querySelector('#df-c48d9174-3541-4ede-a777-8c725b83966e button.colab-df-convert');\n",
              "        buttonEl.style.display =\n",
              "          google.colab.kernel.accessAllowed ? 'block' : 'none';\n",
              "\n",
              "        async function convertToInteractive(key) {\n",
              "          const element = document.querySelector('#df-c48d9174-3541-4ede-a777-8c725b83966e');\n",
              "          const dataTable =\n",
              "            await google.colab.kernel.invokeFunction('convertToInteractive',\n",
              "                                                     [key], {});\n",
              "          if (!dataTable) return;\n",
              "\n",
              "          const docLinkHtml = 'Like what you see? Visit the ' +\n",
              "            '<a target=\"_blank\" href=https://colab.research.google.com/notebooks/data_table.ipynb>data table notebook</a>'\n",
              "            + ' to learn more about interactive tables.';\n",
              "          element.innerHTML = '';\n",
              "          dataTable['output_type'] = 'display_data';\n",
              "          await google.colab.output.renderOutput(dataTable, element);\n",
              "          const docLink = document.createElement('div');\n",
              "          docLink.innerHTML = docLinkHtml;\n",
              "          element.appendChild(docLink);\n",
              "        }\n",
              "      </script>\n",
              "    </div>\n",
              "  </div>\n",
              "  "
            ],
            "text/plain": [
              "                     star            original_title  ...  weighted_rating     profit\n",
              "2305          Tim Robbins  The Shawshank Redemption  ...         8.249268    3341469\n",
              "4479        Marlon Brando             The Godfather  ...         8.166842  239066411\n",
              "4951       Christian Bale           The Dark Knight  ...         8.138874  819558444\n",
              "3685       Edward Snowden                Fight Club  ...         8.100053   37853753\n",
              "4381        John Travolta              Pulp Fiction  ...         8.079372  205928762\n",
              "4885            Tom Hanks              Forrest Gump  ...         7.978526  622945399\n",
              "4921    Leonardo DiCaprio                 Inception  ...         7.972282  665532764\n",
              "4883  Matthew McConaughey              Interstellar  ...         7.942203  510120017\n",
              "4832          Mark Hamill   The Empire Strikes Back  ...         7.911242  520400000\n",
              "4637          Liam Neeson          Schindler's List  ...         7.909892  299365567\n",
              "\n",
              "[10 rows x 18 columns]"
            ]
          },
          "metadata": {},
          "execution_count": 550
        }
      ]
    },
    {
      "cell_type": "code",
      "source": [
        "films.hist(bins=50, figsize=(20,15))\n",
        "plt.show()\n"
      ],
      "metadata": {
        "colab": {
          "base_uri": "https://localhost:8080/",
          "height": 895
        },
        "id": "805nA8rft8YI",
        "outputId": "1e25109d-0724-44b2-a119-c3c392057b3e"
      },
      "execution_count": 551,
      "outputs": [
        {
          "output_type": "display_data",
          "data": {
            "image/png": "[encoded data removed]",
            "text/plain": [
              "<Figure size 1440x1080 with 12 Axes>"
            ]
          },
          "metadata": {}
        }
      ]
    },
    {
      "cell_type": "code",
      "source": [
        "corr_matrix = films.corr()\n",
        "corr_matrix[\"weighted_rating\"].sort_values(ascending=False)"
      ],
      "metadata": {
        "colab": {
          "base_uri": "https://localhost:8080/"
        },
        "id": "cWgSbo6UBTrV",
        "outputId": "a931106c-5f12-42d5-f838-7bc564118db2"
      },
      "execution_count": 552,
      "outputs": [
        {
          "output_type": "execute_result",
          "data": {
            "text/plain": [
              "weighted_rating    1.000000\n",
              "vote_average       0.738405\n",
              "vote_count         0.573155\n",
              "profit             0.334080\n",
              "runtime            0.290717\n",
              "revenue            0.288006\n",
              "popularity         0.248653\n",
              "month              0.118685\n",
              "budget             0.027392\n",
              "day                0.009906\n",
              "year              -0.120639\n",
              "Name: weighted_rating, dtype: float64"
            ]
          },
          "metadata": {},
          "execution_count": 552
        }
      ]
    },
    {
      "cell_type": "code",
      "source": [
        "films['production_countries'].value_counts()"
      ],
      "metadata": {
        "colab": {
          "base_uri": "https://localhost:8080/"
        },
        "id": "n6se4QbtrU0c",
        "outputId": "6496a961-11fc-42b2-920c-fd7ea70c771c"
      },
      "execution_count": 553,
      "outputs": [
        {
          "output_type": "execute_result",
          "data": {
            "text/plain": [
              "US    3256\n",
              "GB     369\n",
              "FR     208\n",
              "CA     175\n",
              "DE     172\n",
              "IN     139\n",
              "AU      93\n",
              "JP      58\n",
              "RU      53\n",
              "IT      50\n",
              "CN      47\n",
              "ES      42\n",
              "IE      27\n",
              "HK      24\n",
              "MX      20\n",
              "KR      20\n",
              "NZ      20\n",
              "BE      19\n",
              "DK      17\n",
              "CZ      17\n",
              "NL      13\n",
              "CH       9\n",
              "BR       9\n",
              "AT       8\n",
              "SE       8\n",
              "FI       8\n",
              "NO       7\n",
              "AE       7\n",
              "AR       7\n",
              "IL       6\n",
              "ZA       6\n",
              "HU       5\n",
              "TR       5\n",
              "TH       5\n",
              "PH       4\n",
              "RO       4\n",
              "ID       3\n",
              "BG       3\n",
              "CL       3\n",
              "GR       3\n",
              "PL       3\n",
              "RS       3\n",
              "SG       2\n",
              "TW       2\n",
              "IS       2\n",
              "LU       2\n",
              "IR       1\n",
              "BS       1\n",
              "DZ       1\n",
              "MY       1\n",
              "UA       1\n",
              "QA       1\n",
              "ML       1\n",
              "UY       1\n",
              "KH       1\n",
              "MT       1\n",
              "PE       1\n",
              "PK       1\n",
              "BF       1\n",
              "EC       1\n",
              "Name: production_countries, dtype: int64"
            ]
          },
          "metadata": {},
          "execution_count": 553
        }
      ]
    },
    {
      "cell_type": "code",
      "source": [
        "films['star'].value_counts()"
      ],
      "metadata": {
        "colab": {
          "base_uri": "https://localhost:8080/"
        },
        "id": "6cwBd7kFbk9h",
        "outputId": "32754f5b-f853-455c-cf06-e9218e7d2928"
      },
      "execution_count": 554,
      "outputs": [
        {
          "output_type": "execute_result",
          "data": {
            "text/plain": [
              "Nicolas Cage          38\n",
              "Bruce Willis          34\n",
              "Johnny Depp           31\n",
              "Tom Hanks             31\n",
              "Denzel Washington     29\n",
              "                      ..\n",
              "Naomie Harris          1\n",
              "Kristina Orbakayte     1\n",
              "Shu Qi                 1\n",
              "Nigel Terry            1\n",
              "Ken Maynard            1\n",
              "Name: star, Length: 2198, dtype: int64"
            ]
          },
          "metadata": {},
          "execution_count": 554
        }
      ]
    },
    {
      "cell_type": "code",
      "source": [
        "sns.catplot(x=\"weighted_rating\", y=\"genres\", palette=\"ch:.25\",data=films)"
      ],
      "metadata": {
        "colab": {
          "base_uri": "https://localhost:8080/",
          "height": 382
        },
        "id": "DbhTHdxx1TYN",
        "outputId": "09c8827a-d307-4998-dc7d-6f5f6e4acafa"
      },
      "execution_count": 555,
      "outputs": [
        {
          "output_type": "execute_result",
          "data": {
            "text/plain": [
              "<seaborn.axisgrid.FacetGrid at 0x7fd2c7e32350>"
            ]
          },
          "metadata": {},
          "execution_count": 555
        },
        {
          "output_type": "display_data",
          "data": {
            "image/png": "[encoded data removed]",
            "text/plain": [
              "<Figure size 360x360 with 1 Axes>"
            ]
          },
          "metadata": {}
        }
      ]
    },
    {
      "cell_type": "code",
      "source": [
        "\n",
        "f, ax = plt.subplots(figsize=(10, 10))\n",
        "sns.countplot(y=\"genres\", data=films, color=\"c\")"
      ],
      "metadata": {
        "colab": {
          "base_uri": "https://localhost:8080/",
          "height": 628
        },
        "id": "5G_qzVYpkboU",
        "outputId": "02b27cfc-ce80-4a7f-e31a-9140d729b61d"
      },
      "execution_count": 556,
      "outputs": [
        {
          "output_type": "execute_result",
          "data": {
            "text/plain": [
              "<matplotlib.axes._subplots.AxesSubplot at 0x7fd2cdc7c950>"
            ]
          },
          "metadata": {},
          "execution_count": 556
        },
        {
          "output_type": "display_data",
          "data": {
            "image/png": "[encoded data removed]",
            "text/plain": [
              "<Figure size 720x720 with 1 Axes>"
            ]
          },
          "metadata": {}
        }
      ]
    },
    {
      "cell_type": "code",
      "source": [
        "films_num = films[['budget','popularity','year','month','day','runtime','vote_count','vote_average']]\n",
        "films_num.head(3)"
      ],
      "metadata": {
        "colab": {
          "base_uri": "https://localhost:8080/",
          "height": 143
        },
        "id": "s323pDEhXsWZ",
        "outputId": "fe47e2e2-e05e-4b44-c4c3-8e7a41399cd4"
      },
      "execution_count": 557,
      "outputs": [
        {
          "output_type": "execute_result",
          "data": {
            "text/html": [
              "\n",
              "  <div id=\"df-2356d27a-40b9-4c75-853e-f67dcd9aecc8\">\n",
              "    <div class=\"colab-df-container\">\n",
              "      <div>\n",
              "<style scoped>\n",
              "    .dataframe tbody tr th:only-of-type {\n",
              "        vertical-align: middle;\n",
              "    }\n",
              "\n",
              "    .dataframe tbody tr th {\n",
              "        vertical-align: top;\n",
              "    }\n",
              "\n",
              "    .dataframe thead th {\n",
              "        text-align: right;\n",
              "    }\n",
              "</style>\n",
              "<table border=\"1\" class=\"dataframe\">\n",
              "  <thead>\n",
              "    <tr style=\"text-align: right;\">\n",
              "      <th></th>\n",
              "      <th>budget</th>\n",
              "      <th>popularity</th>\n",
              "      <th>year</th>\n",
              "      <th>month</th>\n",
              "      <th>day</th>\n",
              "      <th>runtime</th>\n",
              "      <th>vote_count</th>\n",
              "      <th>vote_average</th>\n",
              "    </tr>\n",
              "  </thead>\n",
              "  <tbody>\n",
              "    <tr>\n",
              "      <th>0</th>\n",
              "      <td>1000000</td>\n",
              "      <td>2.392367</td>\n",
              "      <td>2006</td>\n",
              "      <td>4</td>\n",
              "      <td>28</td>\n",
              "      <td>78</td>\n",
              "      <td>20</td>\n",
              "      <td>6.2</td>\n",
              "    </tr>\n",
              "    <tr>\n",
              "      <th>1</th>\n",
              "      <td>20000000</td>\n",
              "      <td>9.517950</td>\n",
              "      <td>2005</td>\n",
              "      <td>1</td>\n",
              "      <td>17</td>\n",
              "      <td>106</td>\n",
              "      <td>278</td>\n",
              "      <td>6.1</td>\n",
              "    </tr>\n",
              "    <tr>\n",
              "      <th>2</th>\n",
              "      <td>135000</td>\n",
              "      <td>0.588872</td>\n",
              "      <td>2010</td>\n",
              "      <td>9</td>\n",
              "      <td>10</td>\n",
              "      <td>94</td>\n",
              "      <td>2</td>\n",
              "      <td>5.3</td>\n",
              "    </tr>\n",
              "  </tbody>\n",
              "</table>\n",
              "</div>\n",
              "      <button class=\"colab-df-convert\" onclick=\"convertToInteractive('df-2356d27a-40b9-4c75-853e-f67dcd9aecc8')\"\n",
              "              title=\"Convert this dataframe to an interactive table.\"\n",
              "              style=\"display:none;\">\n",
              "        \n",
              "  <svg xmlns=\"http://www.w3.org/2000/svg\" height=\"24px\"viewBox=\"0 0 24 24\"\n",
              "       width=\"24px\">\n",
              "    <path d=\"M0 0h24v24H0V0z\" fill=\"none\"/>\n",
              "    <path d=\"M18.56 5.44l.94 2.06.94-2.06 2.06-.94-2.06-.94-.94-2.06-.94 2.06-2.06.94zm-11 1L8.5 8.5l.94-2.06 2.06-.94-2.06-.94L8.5 2.5l-.94 2.06-2.06.94zm10 10l.94 2.06.94-2.06 2.06-.94-2.06-.94-.94-2.06-.94 2.06-2.06.94z\"/><path d=\"M17.41 7.96l-1.37-1.37c-.4-.4-.92-.59-1.43-.59-.52 0-1.04.2-1.43.59L10.3 9.45l-7.72 7.72c-.78.78-.78 2.05 0 2.83L4 21.41c.39.39.9.59 1.41.59.51 0 1.02-.2 1.41-.59l7.78-7.78 2.81-2.81c.8-.78.8-2.07 0-2.86zM5.41 20L4 18.59l7.72-7.72 1.47 1.35L5.41 20z\"/>\n",
              "  </svg>\n",
              "      </button>\n",
              "      \n",
              "  <style>\n",
              "    .colab-df-container {\n",
              "      display:flex;\n",
              "      flex-wrap:wrap;\n",
              "      gap: 12px;\n",
              "    }\n",
              "\n",
              "    .colab-df-convert {\n",
              "      background-color: #E8F0FE;\n",
              "      border: none;\n",
              "      border-radius: 50%;\n",
              "      cursor: pointer;\n",
              "      display: none;\n",
              "      fill: #1967D2;\n",
              "      height: 32px;\n",
              "      padding: 0 0 0 0;\n",
              "      width: 32px;\n",
              "    }\n",
              "\n",
              "    .colab-df-convert:hover {\n",
              "      background-color: #E2EBFA;\n",
              "      box-shadow: 0px 1px 2px rgba(60, 64, 67, 0.3), 0px 1px 3px 1px rgba(60, 64, 67, 0.15);\n",
              "      fill: #174EA6;\n",
              "    }\n",
              "\n",
              "    [theme=dark] .colab-df-convert {\n",
              "      background-color: #3B4455;\n",
              "      fill: #D2E3FC;\n",
              "    }\n",
              "\n",
              "    [theme=dark] .colab-df-convert:hover {\n",
              "      background-color: #434B5C;\n",
              "      box-shadow: 0px 1px 3px 1px rgba(0, 0, 0, 0.15);\n",
              "      filter: drop-shadow(0px 1px 2px rgba(0, 0, 0, 0.3));\n",
              "      fill: #FFFFFF;\n",
              "    }\n",
              "  </style>\n",
              "\n",
              "      <script>\n",
              "        const buttonEl =\n",
              "          document.querySelector('#df-2356d27a-40b9-4c75-853e-f67dcd9aecc8 button.colab-df-convert');\n",
              "        buttonEl.style.display =\n",
              "          google.colab.kernel.accessAllowed ? 'block' : 'none';\n",
              "\n",
              "        async function convertToInteractive(key) {\n",
              "          const element = document.querySelector('#df-2356d27a-40b9-4c75-853e-f67dcd9aecc8');\n",
              "          const dataTable =\n",
              "            await google.colab.kernel.invokeFunction('convertToInteractive',\n",
              "                                                     [key], {});\n",
              "          if (!dataTable) return;\n",
              "\n",
              "          const docLinkHtml = 'Like what you see? Visit the ' +\n",
              "            '<a target=\"_blank\" href=https://colab.research.google.com/notebooks/data_table.ipynb>data table notebook</a>'\n",
              "            + ' to learn more about interactive tables.';\n",
              "          element.innerHTML = '';\n",
              "          dataTable['output_type'] = 'display_data';\n",
              "          await google.colab.output.renderOutput(dataTable, element);\n",
              "          const docLink = document.createElement('div');\n",
              "          docLink.innerHTML = docLinkHtml;\n",
              "          element.appendChild(docLink);\n",
              "        }\n",
              "      </script>\n",
              "    </div>\n",
              "  </div>\n",
              "  "
            ],
            "text/plain": [
              "     budget  popularity  year  month  day  runtime  vote_count  vote_average\n",
              "0   1000000    2.392367  2006      4   28       78          20           6.2\n",
              "1  20000000    9.517950  2005      1   17      106         278           6.1\n",
              "2    135000    0.588872  2010      9   10       94           2           5.3"
            ]
          },
          "metadata": {},
          "execution_count": 557
        }
      ]
    },
    {
      "cell_type": "code",
      "source": [
        "films_cat = films[['star','original_title','genres','original_language','production_companies','production_countries','spoken_languages']]\n",
        "films_cat.head(3)"
      ],
      "metadata": {
        "colab": {
          "base_uri": "https://localhost:8080/",
          "height": 143
        },
        "id": "zOfSkeqFZjuE",
        "outputId": "6081d92a-56cd-4275-f87c-5487c7837de1"
      },
      "execution_count": 558,
      "outputs": [
        {
          "output_type": "execute_result",
          "data": {
            "text/html": [
              "\n",
              "  <div id=\"df-0d847432-93ab-4f25-94f1-d7bd03a0c78d\">\n",
              "    <div class=\"colab-df-container\">\n",
              "      <div>\n",
              "<style scoped>\n",
              "    .dataframe tbody tr th:only-of-type {\n",
              "        vertical-align: middle;\n",
              "    }\n",
              "\n",
              "    .dataframe tbody tr th {\n",
              "        vertical-align: top;\n",
              "    }\n",
              "\n",
              "    .dataframe thead th {\n",
              "        text-align: right;\n",
              "    }\n",
              "</style>\n",
              "<table border=\"1\" class=\"dataframe\">\n",
              "  <thead>\n",
              "    <tr style=\"text-align: right;\">\n",
              "      <th></th>\n",
              "      <th>star</th>\n",
              "      <th>original_title</th>\n",
              "      <th>genres</th>\n",
              "      <th>original_language</th>\n",
              "      <th>production_companies</th>\n",
              "      <th>production_countries</th>\n",
              "      <th>spoken_languages</th>\n",
              "    </tr>\n",
              "  </thead>\n",
              "  <tbody>\n",
              "    <tr>\n",
              "      <th>0</th>\n",
              "      <td>Colin Hanks</td>\n",
              "      <td>Alone With Her</td>\n",
              "      <td>Crime</td>\n",
              "      <td>en</td>\n",
              "      <td>The Weinstein Company</td>\n",
              "      <td>US</td>\n",
              "      <td>en</td>\n",
              "    </tr>\n",
              "    <tr>\n",
              "      <th>1</th>\n",
              "      <td>Jason Statham</td>\n",
              "      <td>Chaos</td>\n",
              "      <td>Drama</td>\n",
              "      <td>en</td>\n",
              "      <td>Current Entertainment</td>\n",
              "      <td>CA</td>\n",
              "      <td>en</td>\n",
              "    </tr>\n",
              "    <tr>\n",
              "      <th>2</th>\n",
              "      <td>Leo Jokela</td>\n",
              "      <td>Logan</td>\n",
              "      <td>Comedy</td>\n",
              "      <td>en</td>\n",
              "      <td>logan films</td>\n",
              "      <td>US</td>\n",
              "      <td>en</td>\n",
              "    </tr>\n",
              "  </tbody>\n",
              "</table>\n",
              "</div>\n",
              "      <button class=\"colab-df-convert\" onclick=\"convertToInteractive('df-0d847432-93ab-4f25-94f1-d7bd03a0c78d')\"\n",
              "              title=\"Convert this dataframe to an interactive table.\"\n",
              "              style=\"display:none;\">\n",
              "        \n",
              "  <svg xmlns=\"http://www.w3.org/2000/svg\" height=\"24px\"viewBox=\"0 0 24 24\"\n",
              "       width=\"24px\">\n",
              "    <path d=\"M0 0h24v24H0V0z\" fill=\"none\"/>\n",
              "    <path d=\"M18.56 5.44l.94 2.06.94-2.06 2.06-.94-2.06-.94-.94-2.06-.94 2.06-2.06.94zm-11 1L8.5 8.5l.94-2.06 2.06-.94-2.06-.94L8.5 2.5l-.94 2.06-2.06.94zm10 10l.94 2.06.94-2.06 2.06-.94-2.06-.94-.94-2.06-.94 2.06-2.06.94z\"/><path d=\"M17.41 7.96l-1.37-1.37c-.4-.4-.92-.59-1.43-.59-.52 0-1.04.2-1.43.59L10.3 9.45l-7.72 7.72c-.78.78-.78 2.05 0 2.83L4 21.41c.39.39.9.59 1.41.59.51 0 1.02-.2 1.41-.59l7.78-7.78 2.81-2.81c.8-.78.8-2.07 0-2.86zM5.41 20L4 18.59l7.72-7.72 1.47 1.35L5.41 20z\"/>\n",
              "  </svg>\n",
              "      </button>\n",
              "      \n",
              "  <style>\n",
              "    .colab-df-container {\n",
              "      display:flex;\n",
              "      flex-wrap:wrap;\n",
              "      gap: 12px;\n",
              "    }\n",
              "\n",
              "    .colab-df-convert {\n",
              "      background-color: #E8F0FE;\n",
              "      border: none;\n",
              "      border-radius: 50%;\n",
              "      cursor: pointer;\n",
              "      display: none;\n",
              "      fill: #1967D2;\n",
              "      height: 32px;\n",
              "      padding: 0 0 0 0;\n",
              "      width: 32px;\n",
              "    }\n",
              "\n",
              "    .colab-df-convert:hover {\n",
              "      background-color: #E2EBFA;\n",
              "      box-shadow: 0px 1px 2px rgba(60, 64, 67, 0.3), 0px 1px 3px 1px rgba(60, 64, 67, 0.15);\n",
              "      fill: #174EA6;\n",
              "    }\n",
              "\n",
              "    [theme=dark] .colab-df-convert {\n",
              "      background-color: #3B4455;\n",
              "      fill: #D2E3FC;\n",
              "    }\n",
              "\n",
              "    [theme=dark] .colab-df-convert:hover {\n",
              "      background-color: #434B5C;\n",
              "      box-shadow: 0px 1px 3px 1px rgba(0, 0, 0, 0.15);\n",
              "      filter: drop-shadow(0px 1px 2px rgba(0, 0, 0, 0.3));\n",
              "      fill: #FFFFFF;\n",
              "    }\n",
              "  </style>\n",
              "\n",
              "      <script>\n",
              "        const buttonEl =\n",
              "          document.querySelector('#df-0d847432-93ab-4f25-94f1-d7bd03a0c78d button.colab-df-convert');\n",
              "        buttonEl.style.display =\n",
              "          google.colab.kernel.accessAllowed ? 'block' : 'none';\n",
              "\n",
              "        async function convertToInteractive(key) {\n",
              "          const element = document.querySelector('#df-0d847432-93ab-4f25-94f1-d7bd03a0c78d');\n",
              "          const dataTable =\n",
              "            await google.colab.kernel.invokeFunction('convertToInteractive',\n",
              "                                                     [key], {});\n",
              "          if (!dataTable) return;\n",
              "\n",
              "          const docLinkHtml = 'Like what you see? Visit the ' +\n",
              "            '<a target=\"_blank\" href=https://colab.research.google.com/notebooks/data_table.ipynb>data table notebook</a>'\n",
              "            + ' to learn more about interactive tables.';\n",
              "          element.innerHTML = '';\n",
              "          dataTable['output_type'] = 'display_data';\n",
              "          await google.colab.output.renderOutput(dataTable, element);\n",
              "          const docLink = document.createElement('div');\n",
              "          docLink.innerHTML = docLinkHtml;\n",
              "          element.appendChild(docLink);\n",
              "        }\n",
              "      </script>\n",
              "    </div>\n",
              "  </div>\n",
              "  "
            ],
            "text/plain": [
              "            star  original_title  ... production_countries spoken_languages\n",
              "0    Colin Hanks  Alone With Her  ...                   US               en\n",
              "1  Jason Statham           Chaos  ...                   CA               en\n",
              "2     Leo Jokela           Logan  ...                   US               en\n",
              "\n",
              "[3 rows x 7 columns]"
            ]
          },
          "metadata": {},
          "execution_count": 558
        }
      ]
    },
    {
      "cell_type": "code",
      "source": [
        "films.isnull().sum()"
      ],
      "metadata": {
        "colab": {
          "base_uri": "https://localhost:8080/"
        },
        "id": "PFvQ4iOB8DaN",
        "outputId": "dd797c71-0594-4d8a-fc73-c6ec84470a93"
      },
      "execution_count": 559,
      "outputs": [
        {
          "output_type": "execute_result",
          "data": {
            "text/plain": [
              "star                    0\n",
              "original_title          0\n",
              "budget                  0\n",
              "revenue                 0\n",
              "genres                  0\n",
              "original_language       0\n",
              "popularity              0\n",
              "production_companies    0\n",
              "production_countries    0\n",
              "year                    0\n",
              "month                   0\n",
              "day                     0\n",
              "runtime                 0\n",
              "spoken_languages        0\n",
              "vote_count              0\n",
              "vote_average            0\n",
              "weighted_rating         0\n",
              "profit                  0\n",
              "dtype: int64"
            ]
          },
          "metadata": {},
          "execution_count": 559
        }
      ]
    },
    {
      "cell_type": "code",
      "source": [
        "(films== 0).sum(axis=0)"
      ],
      "metadata": {
        "colab": {
          "base_uri": "https://localhost:8080/"
        },
        "id": "Imxa2EWt8NaK",
        "outputId": "3839e225-eb9f-49cc-8a9c-af36c9737c5f"
      },
      "execution_count": 560,
      "outputs": [
        {
          "output_type": "execute_result",
          "data": {
            "text/plain": [
              "star                    0\n",
              "original_title          0\n",
              "budget                  0\n",
              "revenue                 0\n",
              "genres                  0\n",
              "original_language       0\n",
              "popularity              0\n",
              "production_companies    0\n",
              "production_countries    0\n",
              "year                    0\n",
              "month                   0\n",
              "day                     0\n",
              "runtime                 0\n",
              "spoken_languages        0\n",
              "vote_count              0\n",
              "vote_average            0\n",
              "weighted_rating         0\n",
              "profit                  9\n",
              "dtype: int64"
            ]
          },
          "metadata": {},
          "execution_count": 560
        }
      ]
    },
    {
      "cell_type": "code",
      "source": [
        "films.info()"
      ],
      "metadata": {
        "colab": {
          "base_uri": "https://localhost:8080/"
        },
        "id": "_xbUur-eZDF6",
        "outputId": "db213b00-e375-4e57-9b31-c3efe5592c69"
      },
      "execution_count": 561,
      "outputs": [
        {
          "output_type": "stream",
          "name": "stdout",
          "text": [
            "<class 'pandas.core.frame.DataFrame'>\n",
            "Int64Index: 4977 entries, 0 to 4977\n",
            "Data columns (total 18 columns):\n",
            " #   Column                Non-Null Count  Dtype  \n",
            "---  ------                --------------  -----  \n",
            " 0   star                  4977 non-null   object \n",
            " 1   original_title        4977 non-null   object \n",
            " 2   budget                4977 non-null   int64  \n",
            " 3   revenue               4977 non-null   int64  \n",
            " 4   genres                4977 non-null   object \n",
            " 5   original_language     4977 non-null   object \n",
            " 6   popularity            4977 non-null   float64\n",
            " 7   production_companies  4977 non-null   object \n",
            " 8   production_countries  4977 non-null   object \n",
            " 9   year                  4977 non-null   int64  \n",
            " 10  month                 4977 non-null   int64  \n",
            " 11  day                   4977 non-null   int64  \n",
            " 12  runtime               4977 non-null   int64  \n",
            " 13  spoken_languages      4977 non-null   object \n",
            " 14  vote_count            4977 non-null   int64  \n",
            " 15  vote_average          4977 non-null   float64\n",
            " 16  weighted_rating       4977 non-null   float64\n",
            " 17  profit                4977 non-null   int64  \n",
            "dtypes: float64(3), int64(8), object(7)\n",
            "memory usage: 898.8+ KB\n"
          ]
        }
      ]
    },
    {
      "cell_type": "code",
      "source": [
        "sns.set()\n",
        "films_correlation = films.corr()\n",
        "plt.figure(figsize=(14,14))\n",
        "sns.heatmap(films_correlation,square=True, fmt='.2f',annot=True, annot_kws={'size':12}, cmap='PuBuGn')"
      ],
      "metadata": {
        "colab": {
          "base_uri": "https://localhost:8080/",
          "height": 844
        },
        "id": "1YTfP13CbB4J",
        "outputId": "25df9173-a6d0-4da9-c929-7c97b6aad04b"
      },
      "execution_count": 562,
      "outputs": [
        {
          "output_type": "execute_result",
          "data": {
            "text/plain": [
              "<matplotlib.axes._subplots.AxesSubplot at 0x7fd2c7ab6b90>"
            ]
          },
          "metadata": {},
          "execution_count": 562
        },
        {
          "output_type": "display_data",
          "data": {
            "image/png": "[encoded data removed]",
            "text/plain": [
              "<Figure size 1008x1008 with 2 Axes>"
            ]
          },
          "metadata": {}
        }
      ]
    },
    {
      "cell_type": "code",
      "source": [
        "films.plot(kind=\"scatter\", x=\"vote_count\", y=\"profit\",alpha=0.5)"
      ],
      "metadata": {
        "colab": {
          "base_uri": "https://localhost:8080/",
          "height": 351
        },
        "id": "EaZxwCcgcjfN",
        "outputId": "fcd59b5a-4795-4bbf-eef8-31c1ea5e5843"
      },
      "execution_count": 563,
      "outputs": [
        {
          "output_type": "stream",
          "name": "stderr",
          "text": [
            "*c* argument looks like a single numeric RGB or RGBA sequence, which should be avoided as value-mapping will have precedence in case its length matches with *x* & *y*.  Please use the *color* keyword-argument or provide a 2-D array with a single row if you intend to specify the same RGB or RGBA value for all points.\n"
          ]
        },
        {
          "output_type": "execute_result",
          "data": {
            "text/plain": [
              "<matplotlib.axes._subplots.AxesSubplot at 0x7fd2c7e1de50>"
            ]
          },
          "metadata": {},
          "execution_count": 563
        },
        {
          "output_type": "display_data",
          "data": {
            "image/png": "[encoded data removed]",
            "text/plain": [
              "<Figure size 432x288 with 1 Axes>"
            ]
          },
          "metadata": {}
        }
      ]
    },
    {
      "cell_type": "code",
      "source": [
        "films.plot(kind=\"scatter\", x=\"vote_count\", y=\"popularity\",alpha=0.5)"
      ],
      "metadata": {
        "colab": {
          "base_uri": "https://localhost:8080/",
          "height": 340
        },
        "id": "MTZgUel4Jo5x",
        "outputId": "0c197905-1309-47f4-b39f-e67d9106d06f"
      },
      "execution_count": 564,
      "outputs": [
        {
          "output_type": "stream",
          "name": "stderr",
          "text": [
            "*c* argument looks like a single numeric RGB or RGBA sequence, which should be avoided as value-mapping will have precedence in case its length matches with *x* & *y*.  Please use the *color* keyword-argument or provide a 2-D array with a single row if you intend to specify the same RGB or RGBA value for all points.\n"
          ]
        },
        {
          "output_type": "execute_result",
          "data": {
            "text/plain": [
              "<matplotlib.axes._subplots.AxesSubplot at 0x7fd2c78165d0>"
            ]
          },
          "metadata": {},
          "execution_count": 564
        },
        {
          "output_type": "display_data",
          "data": {
            "image/png": "[encoded data removed]",
            "text/plain": [
              "<Figure size 432x288 with 1 Axes>"
            ]
          },
          "metadata": {}
        }
      ]
    },
    {
      "cell_type": "code",
      "source": [
        "_1Hot_encoder = OneHotEncoder()\n",
        "#### Star\n",
        "#films_star = _1Hot_encoder.fit_transform(films.star.values.reshape(-1,1)).toarray()\n",
        "#Films_OneHot_star = pd.DataFrame(films_star, columns = [\"star\"+str(int(i)) for i in range(2198)]) \n",
        "#films = pd.concat([films, Films_OneHot_star], axis=1) \n",
        "#films= films.drop(['star'], axis=1) \n",
        "#### Original Title\n",
        "#films_original_title = _1Hot_encoder.fit_transform(films.original_title.values.reshape(-1,1)).toarray()\n",
        "#Films_OneHot_original_title = pd.DataFrame(films_original_title, columns = [\"original_title\"+str(int(i)) for i in range(4892)]) \n",
        "#films = pd.concat([films, Films_OneHot_original_title], axis=1) \n",
        "#films= films.drop(['original_title'], axis=1) \n",
        "#### Original Language\n",
        "films_original_language = _1Hot_encoder.fit_transform(films.original_language.values.reshape(-1,1)).toarray()\n",
        "Films_OneHot_original_language = pd.DataFrame(films_original_language, columns = [\"original_language\"+str(int(i)) for i in range(35)]) \n",
        "films = pd.concat([films, Films_OneHot_original_language], axis=1) \n",
        "films= films.drop(['original_language'], axis=1) \n",
        "#### production Companies\n",
        "#films_production_companies = _1Hot_encoder.fit_transform(films.production_companies.values.reshape(-1,1)).toarray()\n",
        "#Films_OneHot_production_companies = pd.DataFrame(films_production_companies, columns = [\"production_companies\"+str(int(i)) for i in range(1277)]) \n",
        "#films = pd.concat([films, Films_OneHot_production_companies], axis=1) \n",
        "#films= films.drop(['production_companies'], axis=1) \n",
        "#### produciton countries\n",
        "films_production_countries = _1Hot_encoder.fit_transform(films.production_countries.values.reshape(-1,1)).toarray()\n",
        "Films_OneHot_production_countries = pd.DataFrame(films_production_countries, columns = [\"production_countries\"+str(int(i)) for i in range(61)]) \n",
        "films = pd.concat([films, Films_OneHot_production_countries], axis=1) \n",
        "films= films.drop(['production_countries'], axis=1) \n",
        "#### Genres\n",
        "films_genres = _1Hot_encoder.fit_transform(films.genres.values.reshape(-1,1)).toarray()\n",
        "Films_OneHot_genres = pd.DataFrame(films_genres, columns = [\"genres\"+str(int(i)) for i in range(21)]) \n",
        "films = pd.concat([films, Films_OneHot_genres], axis=1) \n",
        "films= films.drop(['genres'], axis=1) \n",
        "#### Spoken languages\n",
        "films_spoken_languages = _1Hot_encoder.fit_transform(films.spoken_languages.values.reshape(-1,1)).toarray()\n",
        "Films_OneHot_spoken_languages = pd.DataFrame(films_spoken_languages, columns = [\"spoken_languages\"+str(int(i)) for i in range(61)]) \n",
        "films = pd.concat([films, Films_OneHot_spoken_languages], axis=1) \n",
        "films= films.drop(['spoken_languages'], axis=1)  "
      ],
      "metadata": {
        "id": "xxbR9vqzhenS"
      },
      "execution_count": 565,
      "outputs": []
    },
    {
      "cell_type": "code",
      "source": [
        "Scaler = MinMaxScaler()\n",
        "films[\"budget\"] = Scaler.fit_transform(films[[\"budget\"]])\n",
        "films[\"popularity\"] = Scaler.fit_transform(films[[\"popularity\"]])\n",
        "films[\"year\"] = Scaler.fit_transform(films[[\"year\"]])\n",
        "films[\"month\"] = Scaler.fit_transform(films[[\"month\"]])\n",
        "films[\"day\"] = Scaler.fit_transform(films[[\"day\"]])\n",
        "films[\"runtime\"] = Scaler.fit_transform(films[[\"runtime\"]])\n",
        "films[\"vote_count\"] = Scaler.fit_transform(films[[\"vote_count\"]])\n",
        "films[\"vote_average\"] = Scaler.fit_transform(films[[\"vote_average\"]])\n",
        "films[\"weighted_rating\"] = Scaler.fit_transform(films[[\"weighted_rating\"]])\n",
        "films[\"profit\"] = Scaler.fit_transform(films[[\"profit\"]])"
      ],
      "metadata": {
        "id": "py1MMCactTMp"
      },
      "execution_count": 566,
      "outputs": []
    },
    {
      "cell_type": "code",
      "source": [
        "#films_star"
      ],
      "metadata": {
        "id": "Bf4fubjj-_lo"
      },
      "execution_count": 567,
      "outputs": []
    },
    {
      "cell_type": "code",
      "source": [
        "#films_original_title"
      ],
      "metadata": {
        "id": "FV1XxVlyiEln"
      },
      "execution_count": 568,
      "outputs": []
    },
    {
      "cell_type": "code",
      "source": [
        "films_production_countries"
      ],
      "metadata": {
        "colab": {
          "base_uri": "https://localhost:8080/"
        },
        "id": "u9MvA-GtiFWr",
        "outputId": "37eb88a5-6ce3-4bc7-9775-76c79723fca4"
      },
      "execution_count": 569,
      "outputs": [
        {
          "output_type": "execute_result",
          "data": {
            "text/plain": [
              "array([[0., 0., 0., ..., 0., 0., 0.],\n",
              "       [0., 0., 0., ..., 0., 0., 0.],\n",
              "       [0., 0., 0., ..., 0., 0., 0.],\n",
              "       ...,\n",
              "       [0., 0., 0., ..., 0., 0., 0.],\n",
              "       [0., 0., 0., ..., 0., 0., 0.],\n",
              "       [0., 0., 0., ..., 0., 0., 0.]])"
            ]
          },
          "metadata": {},
          "execution_count": 569
        }
      ]
    },
    {
      "cell_type": "code",
      "source": [
        "#films_production_companies"
      ],
      "metadata": {
        "id": "NwuothmGiZ_0"
      },
      "execution_count": 570,
      "outputs": []
    },
    {
      "cell_type": "code",
      "source": [
        "films_original_language"
      ],
      "metadata": {
        "colab": {
          "base_uri": "https://localhost:8080/"
        },
        "id": "RWeAdXwcibg8",
        "outputId": "6795ffb8-ef46-4c08-f01e-2b6a6703a0f5"
      },
      "execution_count": 571,
      "outputs": [
        {
          "output_type": "execute_result",
          "data": {
            "text/plain": [
              "array([[0., 0., 0., ..., 0., 0., 0.],\n",
              "       [0., 0., 0., ..., 0., 0., 0.],\n",
              "       [0., 0., 0., ..., 0., 0., 0.],\n",
              "       ...,\n",
              "       [0., 0., 0., ..., 0., 0., 0.],\n",
              "       [0., 0., 0., ..., 0., 0., 0.],\n",
              "       [0., 0., 0., ..., 0., 0., 0.]])"
            ]
          },
          "metadata": {},
          "execution_count": 571
        }
      ]
    },
    {
      "cell_type": "code",
      "source": [
        "films_genres"
      ],
      "metadata": {
        "colab": {
          "base_uri": "https://localhost:8080/"
        },
        "id": "yBtzUe5hi3B4",
        "outputId": "02c72c71-5161-41fb-f5e1-da2bea17694d"
      },
      "execution_count": 572,
      "outputs": [
        {
          "output_type": "execute_result",
          "data": {
            "text/plain": [
              "array([[0., 0., 0., ..., 0., 0., 0.],\n",
              "       [0., 0., 0., ..., 0., 0., 0.],\n",
              "       [0., 0., 0., ..., 0., 0., 0.],\n",
              "       ...,\n",
              "       [0., 0., 0., ..., 0., 0., 0.],\n",
              "       [1., 0., 0., ..., 0., 0., 0.],\n",
              "       [1., 0., 0., ..., 0., 0., 0.]])"
            ]
          },
          "metadata": {},
          "execution_count": 572
        }
      ]
    },
    {
      "cell_type": "code",
      "source": [
        "films_spoken_languages"
      ],
      "metadata": {
        "colab": {
          "base_uri": "https://localhost:8080/"
        },
        "id": "G4YpeGQ9jJcd",
        "outputId": "25bfa8a1-e82a-45ec-e754-bd6a735862ce"
      },
      "execution_count": 573,
      "outputs": [
        {
          "output_type": "execute_result",
          "data": {
            "text/plain": [
              "array([[0., 0., 0., ..., 0., 0., 0.],\n",
              "       [0., 0., 0., ..., 0., 0., 0.],\n",
              "       [0., 0., 0., ..., 0., 0., 0.],\n",
              "       ...,\n",
              "       [0., 0., 0., ..., 0., 0., 0.],\n",
              "       [0., 0., 0., ..., 0., 0., 0.],\n",
              "       [0., 0., 0., ..., 0., 0., 0.]])"
            ]
          },
          "metadata": {},
          "execution_count": 573
        }
      ]
    },
    {
      "cell_type": "code",
      "source": [
        "films_prepared = films.drop(columns=['star','original_title','production_companies','weighted_rating'],axis=1)\n",
        "films_label = films['weighted_rating'] \n",
        "films_label.head()"
      ],
      "metadata": {
        "colab": {
          "base_uri": "https://localhost:8080/"
        },
        "id": "moa6onZQjlvB",
        "outputId": "4bdf36e4-8b51-4de7-c92d-4116bf772b6c"
      },
      "execution_count": 574,
      "outputs": [
        {
          "output_type": "execute_result",
          "data": {
            "text/plain": [
              "0    0.399556\n",
              "1    0.387396\n",
              "2    0.399553\n",
              "3    0.403447\n",
              "4    0.464779\n",
              "Name: weighted_rating, dtype: float64"
            ]
          },
          "metadata": {},
          "execution_count": 574
        }
      ]
    },
    {
      "cell_type": "code",
      "source": [
        "films_prepared.head()"
      ],
      "metadata": {
        "colab": {
          "base_uri": "https://localhost:8080/",
          "height": 300
        },
        "id": "Z3s6OlrSkCaR",
        "outputId": "415377f6-5f88-4574-975b-bcae37d99c6c"
      },
      "execution_count": 575,
      "outputs": [
        {
          "output_type": "execute_result",
          "data": {
            "text/html": [
              "\n",
              "  <div id=\"df-887d649e-49b7-4acf-996e-86f2972dd179\">\n",
              "    <div class=\"colab-df-container\">\n",
              "      <div>\n",
              "<style scoped>\n",
              "    .dataframe tbody tr th:only-of-type {\n",
              "        vertical-align: middle;\n",
              "    }\n",
              "\n",
              "    .dataframe tbody tr th {\n",
              "        vertical-align: top;\n",
              "    }\n",
              "\n",
              "    .dataframe thead th {\n",
              "        text-align: right;\n",
              "    }\n",
              "</style>\n",
              "<table border=\"1\" class=\"dataframe\">\n",
              "  <thead>\n",
              "    <tr style=\"text-align: right;\">\n",
              "      <th></th>\n",
              "      <th>budget</th>\n",
              "      <th>revenue</th>\n",
              "      <th>popularity</th>\n",
              "      <th>year</th>\n",
              "      <th>month</th>\n",
              "      <th>day</th>\n",
              "      <th>runtime</th>\n",
              "      <th>vote_count</th>\n",
              "      <th>vote_average</th>\n",
              "      <th>profit</th>\n",
              "      <th>original_language0</th>\n",
              "      <th>original_language1</th>\n",
              "      <th>original_language2</th>\n",
              "      <th>original_language3</th>\n",
              "      <th>original_language4</th>\n",
              "      <th>original_language5</th>\n",
              "      <th>original_language6</th>\n",
              "      <th>original_language7</th>\n",
              "      <th>original_language8</th>\n",
              "      <th>original_language9</th>\n",
              "      <th>original_language10</th>\n",
              "      <th>original_language11</th>\n",
              "      <th>original_language12</th>\n",
              "      <th>original_language13</th>\n",
              "      <th>original_language14</th>\n",
              "      <th>original_language15</th>\n",
              "      <th>original_language16</th>\n",
              "      <th>original_language17</th>\n",
              "      <th>original_language18</th>\n",
              "      <th>original_language19</th>\n",
              "      <th>original_language20</th>\n",
              "      <th>original_language21</th>\n",
              "      <th>original_language22</th>\n",
              "      <th>original_language23</th>\n",
              "      <th>original_language24</th>\n",
              "      <th>original_language25</th>\n",
              "      <th>original_language26</th>\n",
              "      <th>original_language27</th>\n",
              "      <th>original_language28</th>\n",
              "      <th>original_language29</th>\n",
              "      <th>...</th>\n",
              "      <th>spoken_languages21</th>\n",
              "      <th>spoken_languages22</th>\n",
              "      <th>spoken_languages23</th>\n",
              "      <th>spoken_languages24</th>\n",
              "      <th>spoken_languages25</th>\n",
              "      <th>spoken_languages26</th>\n",
              "      <th>spoken_languages27</th>\n",
              "      <th>spoken_languages28</th>\n",
              "      <th>spoken_languages29</th>\n",
              "      <th>spoken_languages30</th>\n",
              "      <th>spoken_languages31</th>\n",
              "      <th>spoken_languages32</th>\n",
              "      <th>spoken_languages33</th>\n",
              "      <th>spoken_languages34</th>\n",
              "      <th>spoken_languages35</th>\n",
              "      <th>spoken_languages36</th>\n",
              "      <th>spoken_languages37</th>\n",
              "      <th>spoken_languages38</th>\n",
              "      <th>spoken_languages39</th>\n",
              "      <th>spoken_languages40</th>\n",
              "      <th>spoken_languages41</th>\n",
              "      <th>spoken_languages42</th>\n",
              "      <th>spoken_languages43</th>\n",
              "      <th>spoken_languages44</th>\n",
              "      <th>spoken_languages45</th>\n",
              "      <th>spoken_languages46</th>\n",
              "      <th>spoken_languages47</th>\n",
              "      <th>spoken_languages48</th>\n",
              "      <th>spoken_languages49</th>\n",
              "      <th>spoken_languages50</th>\n",
              "      <th>spoken_languages51</th>\n",
              "      <th>spoken_languages52</th>\n",
              "      <th>spoken_languages53</th>\n",
              "      <th>spoken_languages54</th>\n",
              "      <th>spoken_languages55</th>\n",
              "      <th>spoken_languages56</th>\n",
              "      <th>spoken_languages57</th>\n",
              "      <th>spoken_languages58</th>\n",
              "      <th>spoken_languages59</th>\n",
              "      <th>spoken_languages60</th>\n",
              "    </tr>\n",
              "  </thead>\n",
              "  <tbody>\n",
              "    <tr>\n",
              "      <th>0</th>\n",
              "      <td>0.002618</td>\n",
              "      <td>10018.0</td>\n",
              "      <td>0.004314</td>\n",
              "      <td>0.888889</td>\n",
              "      <td>0.272727</td>\n",
              "      <td>0.900000</td>\n",
              "      <td>0.074733</td>\n",
              "      <td>0.001350</td>\n",
              "      <td>0.608108</td>\n",
              "      <td>0.060633</td>\n",
              "      <td>0.0</td>\n",
              "      <td>0.0</td>\n",
              "      <td>0.0</td>\n",
              "      <td>0.0</td>\n",
              "      <td>0.0</td>\n",
              "      <td>0.0</td>\n",
              "      <td>0.0</td>\n",
              "      <td>1.0</td>\n",
              "      <td>0.0</td>\n",
              "      <td>0.0</td>\n",
              "      <td>0.0</td>\n",
              "      <td>0.0</td>\n",
              "      <td>0.0</td>\n",
              "      <td>0.0</td>\n",
              "      <td>0.0</td>\n",
              "      <td>0.0</td>\n",
              "      <td>0.0</td>\n",
              "      <td>0.0</td>\n",
              "      <td>0.0</td>\n",
              "      <td>0.0</td>\n",
              "      <td>0.0</td>\n",
              "      <td>0.0</td>\n",
              "      <td>0.0</td>\n",
              "      <td>0.0</td>\n",
              "      <td>0.0</td>\n",
              "      <td>0.0</td>\n",
              "      <td>0.0</td>\n",
              "      <td>0.0</td>\n",
              "      <td>0.0</td>\n",
              "      <td>0.0</td>\n",
              "      <td>...</td>\n",
              "      <td>0.0</td>\n",
              "      <td>0.0</td>\n",
              "      <td>0.0</td>\n",
              "      <td>0.0</td>\n",
              "      <td>0.0</td>\n",
              "      <td>0.0</td>\n",
              "      <td>0.0</td>\n",
              "      <td>0.0</td>\n",
              "      <td>0.0</td>\n",
              "      <td>0.0</td>\n",
              "      <td>0.0</td>\n",
              "      <td>0.0</td>\n",
              "      <td>0.0</td>\n",
              "      <td>0.0</td>\n",
              "      <td>0.0</td>\n",
              "      <td>0.0</td>\n",
              "      <td>0.0</td>\n",
              "      <td>0.0</td>\n",
              "      <td>0.0</td>\n",
              "      <td>0.0</td>\n",
              "      <td>0.0</td>\n",
              "      <td>0.0</td>\n",
              "      <td>0.0</td>\n",
              "      <td>0.0</td>\n",
              "      <td>0.0</td>\n",
              "      <td>0.0</td>\n",
              "      <td>0.0</td>\n",
              "      <td>0.0</td>\n",
              "      <td>0.0</td>\n",
              "      <td>0.0</td>\n",
              "      <td>0.0</td>\n",
              "      <td>0.0</td>\n",
              "      <td>0.0</td>\n",
              "      <td>0.0</td>\n",
              "      <td>0.0</td>\n",
              "      <td>0.0</td>\n",
              "      <td>0.0</td>\n",
              "      <td>0.0</td>\n",
              "      <td>0.0</td>\n",
              "      <td>0.0</td>\n",
              "    </tr>\n",
              "    <tr>\n",
              "      <th>1</th>\n",
              "      <td>0.052619</td>\n",
              "      <td>10289.0</td>\n",
              "      <td>0.017330</td>\n",
              "      <td>0.878788</td>\n",
              "      <td>0.000000</td>\n",
              "      <td>0.533333</td>\n",
              "      <td>0.174377</td>\n",
              "      <td>0.019682</td>\n",
              "      <td>0.594595</td>\n",
              "      <td>0.053639</td>\n",
              "      <td>0.0</td>\n",
              "      <td>0.0</td>\n",
              "      <td>0.0</td>\n",
              "      <td>0.0</td>\n",
              "      <td>0.0</td>\n",
              "      <td>0.0</td>\n",
              "      <td>0.0</td>\n",
              "      <td>1.0</td>\n",
              "      <td>0.0</td>\n",
              "      <td>0.0</td>\n",
              "      <td>0.0</td>\n",
              "      <td>0.0</td>\n",
              "      <td>0.0</td>\n",
              "      <td>0.0</td>\n",
              "      <td>0.0</td>\n",
              "      <td>0.0</td>\n",
              "      <td>0.0</td>\n",
              "      <td>0.0</td>\n",
              "      <td>0.0</td>\n",
              "      <td>0.0</td>\n",
              "      <td>0.0</td>\n",
              "      <td>0.0</td>\n",
              "      <td>0.0</td>\n",
              "      <td>0.0</td>\n",
              "      <td>0.0</td>\n",
              "      <td>0.0</td>\n",
              "      <td>0.0</td>\n",
              "      <td>0.0</td>\n",
              "      <td>0.0</td>\n",
              "      <td>0.0</td>\n",
              "      <td>...</td>\n",
              "      <td>0.0</td>\n",
              "      <td>0.0</td>\n",
              "      <td>0.0</td>\n",
              "      <td>0.0</td>\n",
              "      <td>0.0</td>\n",
              "      <td>0.0</td>\n",
              "      <td>0.0</td>\n",
              "      <td>0.0</td>\n",
              "      <td>0.0</td>\n",
              "      <td>0.0</td>\n",
              "      <td>0.0</td>\n",
              "      <td>0.0</td>\n",
              "      <td>0.0</td>\n",
              "      <td>0.0</td>\n",
              "      <td>0.0</td>\n",
              "      <td>0.0</td>\n",
              "      <td>0.0</td>\n",
              "      <td>0.0</td>\n",
              "      <td>0.0</td>\n",
              "      <td>0.0</td>\n",
              "      <td>0.0</td>\n",
              "      <td>0.0</td>\n",
              "      <td>0.0</td>\n",
              "      <td>0.0</td>\n",
              "      <td>0.0</td>\n",
              "      <td>0.0</td>\n",
              "      <td>0.0</td>\n",
              "      <td>0.0</td>\n",
              "      <td>0.0</td>\n",
              "      <td>0.0</td>\n",
              "      <td>0.0</td>\n",
              "      <td>0.0</td>\n",
              "      <td>0.0</td>\n",
              "      <td>0.0</td>\n",
              "      <td>0.0</td>\n",
              "      <td>0.0</td>\n",
              "      <td>0.0</td>\n",
              "      <td>0.0</td>\n",
              "      <td>0.0</td>\n",
              "      <td>0.0</td>\n",
              "    </tr>\n",
              "    <tr>\n",
              "      <th>2</th>\n",
              "      <td>0.000342</td>\n",
              "      <td>10474.0</td>\n",
              "      <td>0.001020</td>\n",
              "      <td>0.929293</td>\n",
              "      <td>0.727273</td>\n",
              "      <td>0.300000</td>\n",
              "      <td>0.131673</td>\n",
              "      <td>0.000071</td>\n",
              "      <td>0.486486</td>\n",
              "      <td>0.060952</td>\n",
              "      <td>0.0</td>\n",
              "      <td>0.0</td>\n",
              "      <td>0.0</td>\n",
              "      <td>0.0</td>\n",
              "      <td>0.0</td>\n",
              "      <td>0.0</td>\n",
              "      <td>0.0</td>\n",
              "      <td>1.0</td>\n",
              "      <td>0.0</td>\n",
              "      <td>0.0</td>\n",
              "      <td>0.0</td>\n",
              "      <td>0.0</td>\n",
              "      <td>0.0</td>\n",
              "      <td>0.0</td>\n",
              "      <td>0.0</td>\n",
              "      <td>0.0</td>\n",
              "      <td>0.0</td>\n",
              "      <td>0.0</td>\n",
              "      <td>0.0</td>\n",
              "      <td>0.0</td>\n",
              "      <td>0.0</td>\n",
              "      <td>0.0</td>\n",
              "      <td>0.0</td>\n",
              "      <td>0.0</td>\n",
              "      <td>0.0</td>\n",
              "      <td>0.0</td>\n",
              "      <td>0.0</td>\n",
              "      <td>0.0</td>\n",
              "      <td>0.0</td>\n",
              "      <td>0.0</td>\n",
              "      <td>...</td>\n",
              "      <td>0.0</td>\n",
              "      <td>0.0</td>\n",
              "      <td>0.0</td>\n",
              "      <td>0.0</td>\n",
              "      <td>0.0</td>\n",
              "      <td>0.0</td>\n",
              "      <td>0.0</td>\n",
              "      <td>0.0</td>\n",
              "      <td>0.0</td>\n",
              "      <td>0.0</td>\n",
              "      <td>0.0</td>\n",
              "      <td>0.0</td>\n",
              "      <td>0.0</td>\n",
              "      <td>0.0</td>\n",
              "      <td>0.0</td>\n",
              "      <td>0.0</td>\n",
              "      <td>0.0</td>\n",
              "      <td>0.0</td>\n",
              "      <td>0.0</td>\n",
              "      <td>0.0</td>\n",
              "      <td>0.0</td>\n",
              "      <td>0.0</td>\n",
              "      <td>0.0</td>\n",
              "      <td>0.0</td>\n",
              "      <td>0.0</td>\n",
              "      <td>0.0</td>\n",
              "      <td>0.0</td>\n",
              "      <td>0.0</td>\n",
              "      <td>0.0</td>\n",
              "      <td>0.0</td>\n",
              "      <td>0.0</td>\n",
              "      <td>0.0</td>\n",
              "      <td>0.0</td>\n",
              "      <td>0.0</td>\n",
              "      <td>0.0</td>\n",
              "      <td>0.0</td>\n",
              "      <td>0.0</td>\n",
              "      <td>0.0</td>\n",
              "      <td>0.0</td>\n",
              "      <td>0.0</td>\n",
              "    </tr>\n",
              "    <tr>\n",
              "      <th>3</th>\n",
              "      <td>0.026303</td>\n",
              "      <td>10759.0</td>\n",
              "      <td>0.009732</td>\n",
              "      <td>0.939394</td>\n",
              "      <td>0.909091</td>\n",
              "      <td>0.033333</td>\n",
              "      <td>0.185053</td>\n",
              "      <td>0.009308</td>\n",
              "      <td>0.635135</td>\n",
              "      <td>0.057320</td>\n",
              "      <td>0.0</td>\n",
              "      <td>0.0</td>\n",
              "      <td>0.0</td>\n",
              "      <td>0.0</td>\n",
              "      <td>0.0</td>\n",
              "      <td>0.0</td>\n",
              "      <td>0.0</td>\n",
              "      <td>0.0</td>\n",
              "      <td>0.0</td>\n",
              "      <td>0.0</td>\n",
              "      <td>0.0</td>\n",
              "      <td>1.0</td>\n",
              "      <td>0.0</td>\n",
              "      <td>0.0</td>\n",
              "      <td>0.0</td>\n",
              "      <td>0.0</td>\n",
              "      <td>0.0</td>\n",
              "      <td>0.0</td>\n",
              "      <td>0.0</td>\n",
              "      <td>0.0</td>\n",
              "      <td>0.0</td>\n",
              "      <td>0.0</td>\n",
              "      <td>0.0</td>\n",
              "      <td>0.0</td>\n",
              "      <td>0.0</td>\n",
              "      <td>0.0</td>\n",
              "      <td>0.0</td>\n",
              "      <td>0.0</td>\n",
              "      <td>0.0</td>\n",
              "      <td>0.0</td>\n",
              "      <td>...</td>\n",
              "      <td>0.0</td>\n",
              "      <td>0.0</td>\n",
              "      <td>0.0</td>\n",
              "      <td>0.0</td>\n",
              "      <td>0.0</td>\n",
              "      <td>0.0</td>\n",
              "      <td>0.0</td>\n",
              "      <td>0.0</td>\n",
              "      <td>0.0</td>\n",
              "      <td>0.0</td>\n",
              "      <td>0.0</td>\n",
              "      <td>0.0</td>\n",
              "      <td>0.0</td>\n",
              "      <td>0.0</td>\n",
              "      <td>0.0</td>\n",
              "      <td>0.0</td>\n",
              "      <td>0.0</td>\n",
              "      <td>0.0</td>\n",
              "      <td>0.0</td>\n",
              "      <td>0.0</td>\n",
              "      <td>0.0</td>\n",
              "      <td>0.0</td>\n",
              "      <td>0.0</td>\n",
              "      <td>0.0</td>\n",
              "      <td>0.0</td>\n",
              "      <td>0.0</td>\n",
              "      <td>0.0</td>\n",
              "      <td>0.0</td>\n",
              "      <td>0.0</td>\n",
              "      <td>0.0</td>\n",
              "      <td>0.0</td>\n",
              "      <td>0.0</td>\n",
              "      <td>0.0</td>\n",
              "      <td>0.0</td>\n",
              "      <td>0.0</td>\n",
              "      <td>0.0</td>\n",
              "      <td>0.0</td>\n",
              "      <td>0.0</td>\n",
              "      <td>0.0</td>\n",
              "      <td>0.0</td>\n",
              "    </tr>\n",
              "    <tr>\n",
              "      <th>4</th>\n",
              "      <td>0.024987</td>\n",
              "      <td>12250.0</td>\n",
              "      <td>0.015644</td>\n",
              "      <td>0.949495</td>\n",
              "      <td>0.363636</td>\n",
              "      <td>0.566667</td>\n",
              "      <td>0.395018</td>\n",
              "      <td>0.013429</td>\n",
              "      <td>0.810811</td>\n",
              "      <td>0.057505</td>\n",
              "      <td>0.0</td>\n",
              "      <td>0.0</td>\n",
              "      <td>0.0</td>\n",
              "      <td>0.0</td>\n",
              "      <td>0.0</td>\n",
              "      <td>0.0</td>\n",
              "      <td>0.0</td>\n",
              "      <td>0.0</td>\n",
              "      <td>0.0</td>\n",
              "      <td>0.0</td>\n",
              "      <td>0.0</td>\n",
              "      <td>1.0</td>\n",
              "      <td>0.0</td>\n",
              "      <td>0.0</td>\n",
              "      <td>0.0</td>\n",
              "      <td>0.0</td>\n",
              "      <td>0.0</td>\n",
              "      <td>0.0</td>\n",
              "      <td>0.0</td>\n",
              "      <td>0.0</td>\n",
              "      <td>0.0</td>\n",
              "      <td>0.0</td>\n",
              "      <td>0.0</td>\n",
              "      <td>0.0</td>\n",
              "      <td>0.0</td>\n",
              "      <td>0.0</td>\n",
              "      <td>0.0</td>\n",
              "      <td>0.0</td>\n",
              "      <td>0.0</td>\n",
              "      <td>0.0</td>\n",
              "      <td>...</td>\n",
              "      <td>0.0</td>\n",
              "      <td>0.0</td>\n",
              "      <td>0.0</td>\n",
              "      <td>0.0</td>\n",
              "      <td>0.0</td>\n",
              "      <td>0.0</td>\n",
              "      <td>0.0</td>\n",
              "      <td>0.0</td>\n",
              "      <td>0.0</td>\n",
              "      <td>0.0</td>\n",
              "      <td>0.0</td>\n",
              "      <td>0.0</td>\n",
              "      <td>0.0</td>\n",
              "      <td>0.0</td>\n",
              "      <td>0.0</td>\n",
              "      <td>0.0</td>\n",
              "      <td>0.0</td>\n",
              "      <td>0.0</td>\n",
              "      <td>0.0</td>\n",
              "      <td>0.0</td>\n",
              "      <td>0.0</td>\n",
              "      <td>0.0</td>\n",
              "      <td>0.0</td>\n",
              "      <td>0.0</td>\n",
              "      <td>0.0</td>\n",
              "      <td>0.0</td>\n",
              "      <td>0.0</td>\n",
              "      <td>0.0</td>\n",
              "      <td>0.0</td>\n",
              "      <td>0.0</td>\n",
              "      <td>0.0</td>\n",
              "      <td>0.0</td>\n",
              "      <td>0.0</td>\n",
              "      <td>0.0</td>\n",
              "      <td>0.0</td>\n",
              "      <td>0.0</td>\n",
              "      <td>0.0</td>\n",
              "      <td>0.0</td>\n",
              "      <td>0.0</td>\n",
              "      <td>0.0</td>\n",
              "    </tr>\n",
              "  </tbody>\n",
              "</table>\n",
              "<p>5 rows × 188 columns</p>\n",
              "</div>\n",
              "      <button class=\"colab-df-convert\" onclick=\"convertToInteractive('df-887d649e-49b7-4acf-996e-86f2972dd179')\"\n",
              "              title=\"Convert this dataframe to an interactive table.\"\n",
              "              style=\"display:none;\">\n",
              "        \n",
              "  <svg xmlns=\"http://www.w3.org/2000/svg\" height=\"24px\"viewBox=\"0 0 24 24\"\n",
              "       width=\"24px\">\n",
              "    <path d=\"M0 0h24v24H0V0z\" fill=\"none\"/>\n",
              "    <path d=\"M18.56 5.44l.94 2.06.94-2.06 2.06-.94-2.06-.94-.94-2.06-.94 2.06-2.06.94zm-11 1L8.5 8.5l.94-2.06 2.06-.94-2.06-.94L8.5 2.5l-.94 2.06-2.06.94zm10 10l.94 2.06.94-2.06 2.06-.94-2.06-.94-.94-2.06-.94 2.06-2.06.94z\"/><path d=\"M17.41 7.96l-1.37-1.37c-.4-.4-.92-.59-1.43-.59-.52 0-1.04.2-1.43.59L10.3 9.45l-7.72 7.72c-.78.78-.78 2.05 0 2.83L4 21.41c.39.39.9.59 1.41.59.51 0 1.02-.2 1.41-.59l7.78-7.78 2.81-2.81c.8-.78.8-2.07 0-2.86zM5.41 20L4 18.59l7.72-7.72 1.47 1.35L5.41 20z\"/>\n",
              "  </svg>\n",
              "      </button>\n",
              "      \n",
              "  <style>\n",
              "    .colab-df-container {\n",
              "      display:flex;\n",
              "      flex-wrap:wrap;\n",
              "      gap: 12px;\n",
              "    }\n",
              "\n",
              "    .colab-df-convert {\n",
              "      background-color: #E8F0FE;\n",
              "      border: none;\n",
              "      border-radius: 50%;\n",
              "      cursor: pointer;\n",
              "      display: none;\n",
              "      fill: #1967D2;\n",
              "      height: 32px;\n",
              "      padding: 0 0 0 0;\n",
              "      width: 32px;\n",
              "    }\n",
              "\n",
              "    .colab-df-convert:hover {\n",
              "      background-color: #E2EBFA;\n",
              "      box-shadow: 0px 1px 2px rgba(60, 64, 67, 0.3), 0px 1px 3px 1px rgba(60, 64, 67, 0.15);\n",
              "      fill: #174EA6;\n",
              "    }\n",
              "\n",
              "    [theme=dark] .colab-df-convert {\n",
              "      background-color: #3B4455;\n",
              "      fill: #D2E3FC;\n",
              "    }\n",
              "\n",
              "    [theme=dark] .colab-df-convert:hover {\n",
              "      background-color: #434B5C;\n",
              "      box-shadow: 0px 1px 3px 1px rgba(0, 0, 0, 0.15);\n",
              "      filter: drop-shadow(0px 1px 2px rgba(0, 0, 0, 0.3));\n",
              "      fill: #FFFFFF;\n",
              "    }\n",
              "  </style>\n",
              "\n",
              "      <script>\n",
              "        const buttonEl =\n",
              "          document.querySelector('#df-887d649e-49b7-4acf-996e-86f2972dd179 button.colab-df-convert');\n",
              "        buttonEl.style.display =\n",
              "          google.colab.kernel.accessAllowed ? 'block' : 'none';\n",
              "\n",
              "        async function convertToInteractive(key) {\n",
              "          const element = document.querySelector('#df-887d649e-49b7-4acf-996e-86f2972dd179');\n",
              "          const dataTable =\n",
              "            await google.colab.kernel.invokeFunction('convertToInteractive',\n",
              "                                                     [key], {});\n",
              "          if (!dataTable) return;\n",
              "\n",
              "          const docLinkHtml = 'Like what you see? Visit the ' +\n",
              "            '<a target=\"_blank\" href=https://colab.research.google.com/notebooks/data_table.ipynb>data table notebook</a>'\n",
              "            + ' to learn more about interactive tables.';\n",
              "          element.innerHTML = '';\n",
              "          dataTable['output_type'] = 'display_data';\n",
              "          await google.colab.output.renderOutput(dataTable, element);\n",
              "          const docLink = document.createElement('div');\n",
              "          docLink.innerHTML = docLinkHtml;\n",
              "          element.appendChild(docLink);\n",
              "        }\n",
              "      </script>\n",
              "    </div>\n",
              "  </div>\n",
              "  "
            ],
            "text/plain": [
              "     budget  revenue  ...  spoken_languages59  spoken_languages60\n",
              "0  0.002618  10018.0  ...                 0.0                 0.0\n",
              "1  0.052619  10289.0  ...                 0.0                 0.0\n",
              "2  0.000342  10474.0  ...                 0.0                 0.0\n",
              "3  0.026303  10759.0  ...                 0.0                 0.0\n",
              "4  0.024987  12250.0  ...                 0.0                 0.0\n",
              "\n",
              "[5 rows x 188 columns]"
            ]
          },
          "metadata": {},
          "execution_count": 575
        }
      ]
    },
    {
      "cell_type": "code",
      "source": [
        "films_prepared = films_prepared.apply(pd.to_numeric, errors='coerce')\n",
        "films_label = films_label.apply(pd.to_numeric, errors='coerce')"
      ],
      "metadata": {
        "id": "SR8CIC39lYMY"
      },
      "execution_count": 576,
      "outputs": []
    },
    {
      "cell_type": "code",
      "source": [
        "films_prepared.fillna(0, inplace=True)\n",
        "films_label.fillna(0, inplace=True)\n"
      ],
      "metadata": {
        "id": "U20s0YxOm5rn"
      },
      "execution_count": 577,
      "outputs": []
    },
    {
      "cell_type": "code",
      "source": [
        "films_train, films_test, label_train, label_test = train_test_split(films_prepared, films_label, test_size=0.20)"
      ],
      "metadata": {
        "id": "bF6JwQ78kIP_"
      },
      "execution_count": 578,
      "outputs": []
    },
    {
      "cell_type": "code",
      "source": [
        "LinearRegressor_Test = LinearRegression()\n",
        "LinearRegressor_Test.fit(films_train,label_train)\n",
        "LinearRegressor_Test_prediction = LinearRegressor_Test.predict(films_test)\n",
        "LinearRegressor_Test_r2score = r2_score(label_test,LinearRegressor_Test_prediction)\n",
        "rmse = mean_squared_error(label_test, LinearRegressor_Test_prediction, squared=False)\n",
        "print(\"LinearRegressor r2.score: (Test)\\n\", LinearRegressor_Test_r2score)\n",
        "print(\"LinearRegressor rmse: (Test)\\n\", rmse)"
      ],
      "metadata": {
        "colab": {
          "base_uri": "https://localhost:8080/"
        },
        "id": "XfNs7WMUkaDW",
        "outputId": "f6d3391d-ac8a-4a0a-80b6-14a0ab1bdfaa"
      },
      "execution_count": 579,
      "outputs": [
        {
          "output_type": "stream",
          "name": "stdout",
          "text": [
            "LinearRegressor r2.score: (Test)\n",
            " 0.6993649904849284\n",
            "LinearRegressor rmse: (Test)\n",
            " 0.05319236753408407\n"
          ]
        }
      ]
    },
    {
      "cell_type": "code",
      "source": [
        "XGBoostRegressor_Test = XGBRegressor()\n",
        "XGBoostRegressor_Test.fit(films_train, label_train)\n",
        "XGBoostRegressor_Test_prediction = XGBoostRegressor_Test.predict(films_test)\n",
        "XGBoostRegressor_Test_r2score = r2_score(label_test,XGBoostRegressor_Test_prediction)\n",
        "rmse = mean_squared_error(label_test, XGBoostRegressor_Test_prediction, squared=False)\n",
        "print(\"XGBoostRegressor r2.score: (Test)\\n\", XGBoostRegressor_Test_r2score)\n",
        "print(\"XGBoostRegressor rmse: (Test)\\n\", rmse)"
      ],
      "metadata": {
        "colab": {
          "base_uri": "https://localhost:8080/"
        },
        "id": "LRQCHykeoGra",
        "outputId": "1af1efbc-85a9-410e-a6e5-afb490b3558a"
      },
      "execution_count": 580,
      "outputs": [
        {
          "output_type": "stream",
          "name": "stdout",
          "text": [
            "[20:30:43] WARNING: /workspace/src/objective/regression_obj.cu:152: reg:linear is now deprecated in favor of reg:squarederror.\n",
            "XGBoostRegressor r2.score: (Test)\n",
            " 0.9908434914514253\n",
            "XGBoostRegressor rmse: (Test)\n",
            " 0.009283131372467626\n"
          ]
        }
      ]
    },
    {
      "cell_type": "code",
      "source": [
        "DecisionTreeRegressor_Test = DecisionTreeRegressor(max_depth=5, min_samples_leaf=10)\n",
        "DecisionTreeRegressor_Test.fit(films_train,label_train)\n",
        "DecisionTreeRegressor_Test_prediction = DecisionTreeRegressor_Test.predict(films_test)\n",
        "DecisionTreeRegressor_Test_r2score = r2_score(label_test,DecisionTreeRegressor_Test_prediction)\n",
        "rmse = mean_squared_error(label_test, DecisionTreeRegressor_Test_prediction, squared=False)\n",
        "print(\"DecisionTreeRegressor r2.score: (Test)\\n\", DecisionTreeRegressor_Test_r2score)\n",
        "print(\"DecisionTreeRegressor rmse: (Test)\\n\", rmse)"
      ],
      "metadata": {
        "colab": {
          "base_uri": "https://localhost:8080/"
        },
        "id": "L7TtbDPmoPwY",
        "outputId": "d5e905ea-668c-4ae8-fe3f-5be60f1b54b8"
      },
      "execution_count": 581,
      "outputs": [
        {
          "output_type": "stream",
          "name": "stdout",
          "text": [
            "DecisionTreeRegressor r2.score: (Test)\n",
            " 0.9544667978832198\n",
            "DecisionTreeRegressor rmse: (Test)\n",
            " 0.02070111035153287\n"
          ]
        }
      ]
    },
    {
      "cell_type": "code",
      "source": [
        "RandomForestRegressor_Test = RandomForestRegressor()\n",
        "RandomForestRegressor_Test.fit(films_train, label_train)\n",
        "RandomForestRegressor_Test_prediction = RandomForestRegressor_Test.predict(films_test)\n",
        "RandomForestRegressor_Test_r2score = r2_score(RandomForestRegressor_Test_prediction, label_test)\n",
        "rmse = mean_squared_error(label_test, RandomForestRegressor_Test_prediction, squared=False)\n",
        "print(\"RandomForestRegressor r2.score: (Test)\\n\",RandomForestRegressor_Test_r2score)\n",
        "print(\"RandomForestRegressor rmse: (Test)\\n\", rmse)"
      ],
      "metadata": {
        "colab": {
          "base_uri": "https://localhost:8080/"
        },
        "id": "xutgSgjJQ1Vj",
        "outputId": "39a3d2bc-7cea-4a48-ba93-e70f51c506b5"
      },
      "execution_count": 582,
      "outputs": [
        {
          "output_type": "stream",
          "name": "stdout",
          "text": [
            "RandomForestRegressor r2.score: (Test)\n",
            " 0.9980960412006428\n",
            "RandomForestRegressor rmse: (Test)\n",
            " 0.004215202934612939\n"
          ]
        }
      ]
    },
    {
      "cell_type": "code",
      "source": [
        "VotingRegressor_Test = VotingRegressor([('lr', LinearRegressor_Test), ('xgb', XGBoostRegressor_Test), ('dt', DecisionTreeRegressor_Test), ('rf', RandomForestRegressor_Test)])\n",
        "VotingRegressor_Test.fit(films_train, label_train)\n",
        "VotingRegressor_Test_prediction = VotingRegressor_Test.predict(films_test)\n",
        "VotingRegressor_Test__r2score = r2_score(VotingRegressor_Test_prediction, label_test)\n",
        "rmse = mean_squared_error(label_test, VotingRegressor_Test_prediction, squared=False)\n",
        "print(\"VotingRegressor r2.score: (Test)\\n\",VotingRegressor_Test__r2score)\n",
        "print(\"VotingRegressor rmse: (Test)\\n\", rmse)\n"
      ],
      "metadata": {
        "colab": {
          "base_uri": "https://localhost:8080/"
        },
        "id": "SWOXETBJvS0Y",
        "outputId": "6a7120b1-e115-46ce-99fa-6968743c1727"
      },
      "execution_count": 583,
      "outputs": [
        {
          "output_type": "stream",
          "name": "stdout",
          "text": [
            "[20:30:50] WARNING: /workspace/src/objective/regression_obj.cu:152: reg:linear is now deprecated in favor of reg:squarederror.\n",
            "VotingRegressor r2.score: (Test)\n",
            " 0.968593950136225\n",
            "VotingRegressor rmse: (Test)\n",
            " 0.016022696910784787\n"
          ]
        }
      ]
    },
    {
      "cell_type": "code",
      "source": [
        "LinearRegressor_Train = LinearRegression()\n",
        "LinearRegressor_Train.fit(films_train,label_train)\n",
        "LinearRegressor_Train_prediction = LinearRegressor_Train.predict(films_train)\n",
        "LinearRegressor_Train_r2score = r2_score(label_train,LinearRegressor_Train_prediction)\n",
        "rmse = mean_squared_error(label_train, LinearRegressor_Train_prediction, squared=False)\n",
        "print(\"LinearRegressor r2.score: (Train)\\n\", LinearRegressor_Train_r2score)\n",
        "print(\"LinearRegressor rmse: (Train)\\n\", rmse)"
      ],
      "metadata": {
        "colab": {
          "base_uri": "https://localhost:8080/"
        },
        "id": "2XVl2Z97Kteo",
        "outputId": "cc5735a1-17bb-4887-91af-722413c86bab"
      },
      "execution_count": 584,
      "outputs": [
        {
          "output_type": "stream",
          "name": "stdout",
          "text": [
            "LinearRegressor r2.score: (Train)\n",
            " 0.7406919645425246\n",
            "LinearRegressor rmse: (Train)\n",
            " 0.050536331244627364\n"
          ]
        }
      ]
    },
    {
      "cell_type": "code",
      "source": [
        "XGBoostRegressor_Train = XGBRegressor()\n",
        "XGBoostRegressor_Train.fit(films_train, label_train)\n",
        "XGBoostRegressor_Train_prediction = XGBoostRegressor_Train.predict(films_train)\n",
        "XGBoostRegressor_Train_r2score = r2_score(label_train,XGBoostRegressor_Train_prediction)\n",
        "rmse = mean_squared_error(label_train, XGBoostRegressor_Train_prediction, squared=False)\n",
        "print(\"XGBoostRegressor r2.score: (Train)\\n\", XGBoostRegressor_Train_r2score)\n",
        "print(\"XGBoostRegressor rmse: (Train)\\n\", rmse)"
      ],
      "metadata": {
        "colab": {
          "base_uri": "https://localhost:8080/"
        },
        "id": "alx2l8kPKVzK",
        "outputId": "03e5bcf6-51f1-4eb9-ce12-50a92cc85f4b"
      },
      "execution_count": 585,
      "outputs": [
        {
          "output_type": "stream",
          "name": "stdout",
          "text": [
            "[20:30:57] WARNING: /workspace/src/objective/regression_obj.cu:152: reg:linear is now deprecated in favor of reg:squarederror.\n",
            "XGBoostRegressor r2.score: (Train)\n",
            " 0.993987976115687\n",
            "XGBoostRegressor rmse: (Train)\n",
            " 0.007694954774217019\n"
          ]
        }
      ]
    },
    {
      "cell_type": "code",
      "source": [
        "DecisionTreeRegressor_Train = DecisionTreeRegressor(max_depth=5, min_samples_leaf=10)\n",
        "DecisionTreeRegressor_Train.fit(films_train,label_train)\n",
        "DecisionTreeRegressor_Train_prediction = DecisionTreeRegressor_Train.predict(films_train)\n",
        "DecisionTreeRegressor_Train_r2score = r2_score(label_train,DecisionTreeRegressor_Train_prediction)\n",
        "rmse = mean_squared_error(label_train, DecisionTreeRegressor_Train_prediction, squared=False)\n",
        "print(\"DecisionTreeRegressor r2.score: (Train)\\n\", DecisionTreeRegressor_Train_r2score)\n",
        "print(\"DecisionTreeRegressor rmse: (Train)\\n\", rmse)"
      ],
      "metadata": {
        "colab": {
          "base_uri": "https://localhost:8080/"
        },
        "id": "1YYAOM3BLBqs",
        "outputId": "2610b22a-8e0b-4445-e937-5950b360cdb4"
      },
      "execution_count": 586,
      "outputs": [
        {
          "output_type": "stream",
          "name": "stdout",
          "text": [
            "DecisionTreeRegressor r2.score: (Train)\n",
            " 0.9580943489737319\n",
            "DecisionTreeRegressor rmse: (Train)\n",
            " 0.020315710667882278\n"
          ]
        }
      ]
    },
    {
      "cell_type": "code",
      "source": [
        "RandomForestRegressor_Train = RandomForestRegressor()\n",
        "RandomForestRegressor_Train.fit(films_train, label_train)\n",
        "RandomForestRegressor_Train_prediction = RandomForestRegressor_Train.predict(films_train)\n",
        "RandomForestRegressor_Train_r2score = r2_score(RandomForestRegressor_Train_prediction, label_train)\n",
        "rmse = mean_squared_error(label_train, RandomForestRegressor_Train_prediction, squared=False)\n",
        "print(\"RandomForestRegressor r2.score: (Train)\\n\", RandomForestRegressor_Train_r2score)\n",
        "print(\"RandomForestRegressor rmse: (Train)\\n\", rmse)"
      ],
      "metadata": {
        "colab": {
          "base_uri": "https://localhost:8080/"
        },
        "id": "JLUp36GBKjEH",
        "outputId": "e44b3e58-23cb-4311-82b3-ff46b5fdad98"
      },
      "execution_count": 587,
      "outputs": [
        {
          "output_type": "stream",
          "name": "stdout",
          "text": [
            "RandomForestRegressor r2.score: (Train)\n",
            " 0.9990191199061865\n",
            "RandomForestRegressor rmse: (Train)\n",
            " 0.00308958029127208\n"
          ]
        }
      ]
    },
    {
      "cell_type": "code",
      "source": [
        "VotingRegressor_Train = VotingRegressor([('lr', LinearRegressor_Train), ('xgb', XGBoostRegressor_Train), ('dt', DecisionTreeRegressor_Train), ('rf', RandomForestRegressor_Train)])\n",
        "VotingRegressor_Train.fit(films_train, label_train)\n",
        "VotingRegressor_Train_prediction = VotingRegressor_Test.predict(films_train)\n",
        "VotingRegressor_Train__r2score = r2_score(VotingRegressor_Train_prediction, label_train)\n",
        "rmse = mean_squared_error(label_train, VotingRegressor_Train_prediction, squared=False)\n",
        "print(\"VotingRegressor r2.score: (Train)\\n\",VotingRegressor_Train__r2score)\n",
        "print(\"VotingRegressor rmse: (Train)\\n\", rmse)\n"
      ],
      "metadata": {
        "colab": {
          "base_uri": "https://localhost:8080/"
        },
        "id": "zObpRmLwwJd-",
        "outputId": "22f0b7ac-c1da-42ca-ef71-8f52efb9e444"
      },
      "execution_count": 588,
      "outputs": [
        {
          "output_type": "stream",
          "name": "stdout",
          "text": [
            "[20:31:03] WARNING: /workspace/src/objective/regression_obj.cu:152: reg:linear is now deprecated in favor of reg:squarederror.\n",
            "VotingRegressor r2.score: (Train)\n",
            " 0.9714181013583701\n",
            "VotingRegressor rmse: (Train)\n",
            " 0.015572627252503532\n"
          ]
        }
      ]
    }
  ]
}